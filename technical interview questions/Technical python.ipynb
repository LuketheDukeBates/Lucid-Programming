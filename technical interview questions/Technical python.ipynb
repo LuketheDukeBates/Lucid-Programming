{
 "cells": [
  {
   "cell_type": "markdown",
   "metadata": {},
   "source": [
    "## Technical interview questions Python\n",
    "\n",
    "### Problem: Implement an algorithm to determine if a string has all unique characters. \n"
   ]
  },
  {
   "cell_type": "code",
   "execution_count": 4,
   "metadata": {},
   "outputs": [],
   "source": [
    "str_1 = \"unique\"\n",
    "str_2 = \"bear\""
   ]
  },
  {
   "cell_type": "code",
   "execution_count": 5,
   "metadata": {},
   "outputs": [],
   "source": [
    "def isUnique(input_str):\n",
    "    return len(set(input_str)) == len(input_str)"
   ]
  },
  {
   "cell_type": "code",
   "execution_count": 6,
   "metadata": {},
   "outputs": [
    {
     "data": {
      "text/plain": [
       "False"
      ]
     },
     "execution_count": 6,
     "metadata": {},
     "output_type": "execute_result"
    }
   ],
   "source": [
    "isUnique(str_1)"
   ]
  },
  {
   "cell_type": "code",
   "execution_count": 7,
   "metadata": {},
   "outputs": [
    {
     "data": {
      "text/plain": [
       "True"
      ]
     },
     "execution_count": 7,
     "metadata": {},
     "output_type": "execute_result"
    }
   ],
   "source": [
    "isUnique(str_2)"
   ]
  },
  {
   "cell_type": "markdown",
   "metadata": {},
   "source": [
    "### Problem: Given two strings, write a function to decide if one is a permutation of the other. \n",
    "\n",
    "\"driving\" vs. \"drivign\" = permuation\n",
    "\n",
    "\"ddriving\" = not a permuation of \"driving\"\n",
    "\n",
    "\"riving\" = not a permuation of \"driving\"\n",
    "\n",
    "\"criving\" = not a permuation of \"driving\"\n",
    "\n",
    "\"the cow jumps over the moon\"\n",
    "\n",
    "\"the moon jumps over the cow\" = permuation\n",
    "\n",
    "\"the cow   ___  jumps over the moon\" = maybe permuation, depends on circumstances. in this implementation, is treated as permuation"
   ]
  },
  {
   "cell_type": "code",
   "execution_count": 8,
   "metadata": {},
   "outputs": [],
   "source": [
    "def isPermutation(str_1, str_2):\n",
    "    str_1 = str_1.replace(\" \", \"\")\n",
    "    str_2 = str_2.replace(\" \", \"\")\n",
    "    \n",
    "    if len(str_1) != len(str_2):\n",
    "        return False\n",
    "    \n",
    "    for char in str_1:\n",
    "        if char in str_2:\n",
    "            str_2 = str_2.replace(char, '')\n",
    "    return len(str_2) == 0 "
   ]
  },
  {
   "cell_type": "code",
   "execution_count": 9,
   "metadata": {},
   "outputs": [
    {
     "data": {
      "text/plain": [
       "True"
      ]
     },
     "execution_count": 9,
     "metadata": {},
     "output_type": "execute_result"
    }
   ],
   "source": [
    "isPermutation(\"driving\", \"drivign\")"
   ]
  },
  {
   "cell_type": "code",
   "execution_count": 10,
   "metadata": {},
   "outputs": [
    {
     "data": {
      "text/plain": [
       "False"
      ]
     },
     "execution_count": 10,
     "metadata": {},
     "output_type": "execute_result"
    }
   ],
   "source": [
    "isPermutation(\"driving\", \"ddrivign\")"
   ]
  },
  {
   "cell_type": "markdown",
   "metadata": {},
   "source": [
    "### Given two strings, write a function to decide if string is a palindrome\n",
    "\n",
    "ex: racecar\n",
    "\n",
    "madam\n",
    "\n",
    "Dammit I'm mad"
   ]
  },
  {
   "cell_type": "code",
   "execution_count": 14,
   "metadata": {},
   "outputs": [],
   "source": [
    "import string\n",
    "def isPalindrome(input_str):\n",
    "    input_str = input_str.lower()\n",
    "    input_str = input_str.translate(str.maketrans('','',string.punctuation))\n",
    "    input_str = input_str.replace(\" \", \"\")\n",
    "    \n",
    "    return input_str == input_str[::-1]"
   ]
  },
  {
   "cell_type": "code",
   "execution_count": 15,
   "metadata": {},
   "outputs": [
    {
     "data": {
      "text/plain": [
       "True"
      ]
     },
     "execution_count": 15,
     "metadata": {},
     "output_type": "execute_result"
    }
   ],
   "source": [
    "isPalindrome('racecar')"
   ]
  },
  {
   "cell_type": "code",
   "execution_count": 16,
   "metadata": {},
   "outputs": [
    {
     "data": {
      "text/plain": [
       "True"
      ]
     },
     "execution_count": 16,
     "metadata": {},
     "output_type": "execute_result"
    }
   ],
   "source": [
    "isPalindrome('madam')"
   ]
  },
  {
   "cell_type": "code",
   "execution_count": 17,
   "metadata": {},
   "outputs": [
    {
     "data": {
      "text/plain": [
       "True"
      ]
     },
     "execution_count": 17,
     "metadata": {},
     "output_type": "execute_result"
    }
   ],
   "source": [
    "isPalindrome(\"Dammit I'm mad\")"
   ]
  },
  {
   "cell_type": "code",
   "execution_count": 18,
   "metadata": {},
   "outputs": [
    {
     "data": {
      "text/plain": [
       "False"
      ]
     },
     "execution_count": 18,
     "metadata": {},
     "output_type": "execute_result"
    }
   ],
   "source": [
    "isPalindrome('potato')"
   ]
  },
  {
   "cell_type": "markdown",
   "metadata": {},
   "source": [
    "## Twosum \n",
    "\n",
    "Given an array of integers, return indices of the two numbers such that they add up to a specific target. You may assume that each input would have exactly one solution, and you may not use the same element twice.\n",
    "\n",
    "EX:\n",
    "\n",
    "nums = [1, 3, 11, 2, 7]\n",
    "\n",
    "target = 9\n",
    "\n",
    "return: [3, 4]"
   ]
  },
  {
   "cell_type": "code",
   "execution_count": 19,
   "metadata": {},
   "outputs": [],
   "source": [
    "def twoSumLinear(nums, target):\n",
    "    if len(nums) <= 1:\n",
    "        return False\n",
    "    \n",
    "    lookup = {}\n",
    "    for idx, num in enumerate(nums):\n",
    "        if num in lookup:\n",
    "            return [lookup[num], idx]\n",
    "        else:\n",
    "            lookup[target - num] = idx\n",
    "        \n",
    "        "
   ]
  },
  {
   "cell_type": "code",
   "execution_count": 20,
   "metadata": {},
   "outputs": [
    {
     "data": {
      "text/plain": [
       "[3, 4]"
      ]
     },
     "execution_count": 20,
     "metadata": {},
     "output_type": "execute_result"
    }
   ],
   "source": [
    "twoSumLinear([1, 3, 11, 2, 7], 9)"
   ]
  },
  {
   "cell_type": "markdown",
   "metadata": {},
   "source": [
    "### Single Number Problem\n",
    "\n",
    "Problem: Given an array of integers, every element appears twice except for one. Find that single one.\n",
    "\n",
    "Note: Your algorithm should have a linear runtime complexity. Could you implement it without using extra memory?\n",
    "\n",
    "example:\n",
    "\n",
    "input = [1, 2, 2, 3, 1]\n",
    "\n",
    "output: 3\n",
    "\n",
    "hashmap solution works in linear time, but takes linear space.\n",
    "\n",
    "XOR: \n",
    "\n",
    "b1 | b2\n",
    "\n",
    "0     1 : 0\n",
    "\n",
    "0     1 : 1\n",
    "\n",
    "1     0 : 1\n",
    "\n",
    "1     1 : 0\n",
    "\n",
    "1 ^ 2 ^ 2 ^ 3 ^ 1  = ^="
   ]
  },
  {
   "cell_type": "code",
   "execution_count": 24,
   "metadata": {},
   "outputs": [
    {
     "data": {
      "text/plain": [
       "3"
      ]
     },
     "execution_count": 24,
     "metadata": {},
     "output_type": "execute_result"
    }
   ],
   "source": [
    "1 ^ 2 ^ 2 ^ 3 ^ 1"
   ]
  },
  {
   "cell_type": "code",
   "execution_count": 25,
   "metadata": {},
   "outputs": [],
   "source": [
    "def singleNum(nums):\n",
    "    answer = 0\n",
    "    for idx, num in enumerate(nums):\n",
    "        answer ^= num\n",
    "    return answer"
   ]
  },
  {
   "cell_type": "code",
   "execution_count": 26,
   "metadata": {},
   "outputs": [
    {
     "data": {
      "text/plain": [
       "3"
      ]
     },
     "execution_count": 26,
     "metadata": {},
     "output_type": "execute_result"
    }
   ],
   "source": [
    "singleNum([1, 2, 2, 3, 1])"
   ]
  },
  {
   "cell_type": "markdown",
   "metadata": {},
   "source": [
    " ### Iterative and Recursive Factorial\n",
    " \n",
    "Given an array of integers, every element appears twice except for one. Find that single one.\n",
    "\n",
    "Note: Your algorithm should have a linear runtime complexity. Could you implement it without using extra memory?"
   ]
  },
  {
   "cell_type": "code",
   "execution_count": 38,
   "metadata": {},
   "outputs": [],
   "source": [
    "def iterativeFactorial(N):\n",
    "    answer = 1\n",
    "    for i in range(N, 0, -1):\n",
    "        #answer = answer * i\n",
    "        answer *= i\n",
    "    return answer\n",
    "\n",
    "def recursiveFactorial(N):\n",
    "    if N <= 1: \n",
    "        return 1\n",
    "    else:\n",
    "        return N * recursiveFactorial(N - 1)\n",
    "        "
   ]
  },
  {
   "cell_type": "code",
   "execution_count": 39,
   "metadata": {},
   "outputs": [
    {
     "data": {
      "text/plain": [
       "120"
      ]
     },
     "execution_count": 39,
     "metadata": {},
     "output_type": "execute_result"
    }
   ],
   "source": [
    "iterativeFactorial(5)"
   ]
  },
  {
   "cell_type": "code",
   "execution_count": 40,
   "metadata": {},
   "outputs": [
    {
     "data": {
      "text/plain": [
       "120"
      ]
     },
     "execution_count": 40,
     "metadata": {},
     "output_type": "execute_result"
    }
   ],
   "source": [
    "recursiveFactorial(5)"
   ]
  },
  {
   "cell_type": "markdown",
   "metadata": {},
   "source": [
    "### URLify String\n",
    "\n",
    "Write a method to replace all spaces in a string with '%20'. You may assume that the string has sufficient space at the end to hold the additional characters and that you are given the \"true\" length of the string. "
   ]
  },
  {
   "cell_type": "code",
   "execution_count": 41,
   "metadata": {},
   "outputs": [],
   "source": [
    "input_test_str = \"Mr. John Smith\"\n",
    "input_test_len = len(input_test_str)"
   ]
  },
  {
   "cell_type": "code",
   "execution_count": 43,
   "metadata": {},
   "outputs": [],
   "source": [
    "def URLify(input_str, input_len):\n",
    "    url = ''\n",
    "    for i in range(input_len):\n",
    "        if input_str[i] == ' ':\n",
    "            url += \"%20\"\n",
    "        else:\n",
    "            url += input_str[i]\n",
    "    return url\n",
    "            "
   ]
  },
  {
   "cell_type": "code",
   "execution_count": 45,
   "metadata": {},
   "outputs": [
    {
     "data": {
      "text/plain": [
       "'Mr.%20John%20Smith'"
      ]
     },
     "execution_count": 45,
     "metadata": {},
     "output_type": "execute_result"
    }
   ],
   "source": [
    "URLify(input_test_str, input_test_len)"
   ]
  },
  {
   "cell_type": "markdown",
   "metadata": {},
   "source": [
    "### Matrix Median\n",
    "\n",
    "Problem:\n",
    "We are given a row-wise sorted matrix of size r*c, we need to find the median of the matrix given. It is assumed that r*c is always odd.\n",
    "\n",
    "YouTube Video: https://www.youtube.com/watch?v=wn-NKs_KNyQ\n",
    "Given a N cross M matrix in which each row is sorted, find the overall median of the matrix.\n",
    "\n",
    "Assume N*M is odd.\n",
    "\n",
    "For example,\n",
    "    \n",
    "    Matrix=\n",
    "    [1, 3, 5]\n",
    "    [2, 6, 9]\n",
    "    [3, 6, 9]\n",
    "\n",
    "A = [1, 2, 3, 3, 5, 6, 6, 9, 9]\n",
    "\n",
    "Median is 5. So, we return 5."
   ]
  },
  {
   "cell_type": "code",
   "execution_count": 51,
   "metadata": {},
   "outputs": [],
   "source": [
    "lst1 = [1, 3, 5]\n",
    "lst2 = [1, 6, 9]\n",
    "lst3 = [3, 6, 9]\n",
    "A = [lst1, lst2, lst3]"
   ]
  },
  {
   "cell_type": "code",
   "execution_count": 55,
   "metadata": {},
   "outputs": [],
   "source": [
    "def medianMatrix(input_matrix):\n",
    "    if len(input_matrix) == 1:\n",
    "        vec = input_matrix[0]\n",
    "        return vec[len(vec)//2]\n",
    "    else:\n",
    "        new_lst = []\n",
    "        for row in range(len(input_matrix)):\n",
    "            #vectorize the matrix, flattening\n",
    "            new_lst.extend(input_matrix[row])\n",
    "        new_lst = sorted(new_lst)\n",
    "    \n",
    "    return new_lst[len(new_lst)//2]\n",
    "            "
   ]
  },
  {
   "cell_type": "code",
   "execution_count": 56,
   "metadata": {},
   "outputs": [
    {
     "data": {
      "text/plain": [
       "5"
      ]
     },
     "execution_count": 56,
     "metadata": {},
     "output_type": "execute_result"
    }
   ],
   "source": [
    "medianMatrix(A)"
   ]
  },
  {
   "cell_type": "code",
   "execution_count": 58,
   "metadata": {},
   "outputs": [
    {
     "data": {
      "text/plain": [
       "3"
      ]
     },
     "execution_count": 58,
     "metadata": {},
     "output_type": "execute_result"
    }
   ],
   "source": [
    "medianMatrix([lst1])"
   ]
  },
  {
   "cell_type": "markdown",
   "metadata": {},
   "source": [
    "### Anagram -- Hashtable\n",
    "Problem:\n",
    "\n",
    "Given two strings, check whether two given strings are an anagram of each other or not. An anagram of a string is another string that contains same characters, only the order of characters can be different. For example, “act” and “tac” are an anagram of each other.\n"
   ]
  },
  {
   "cell_type": "code",
   "execution_count": 59,
   "metadata": {},
   "outputs": [],
   "source": [
    "str1 = 'practice makes perfect'\n",
    "str2 = 'perfect makes practice'\n",
    "\n",
    "str3 = 'allergy'\n",
    "str4 = 'allergic'"
   ]
  },
  {
   "cell_type": "code",
   "execution_count": 60,
   "metadata": {},
   "outputs": [],
   "source": [
    "def isAnagram(input_str1, input_str2):\n",
    "    input_str1 = input_str1.replace(' ', '')\n",
    "    input_str2 = input_str2.replace(' ', '')\n",
    "    \n",
    "    if len(input_str1) != len(input_str2):\n",
    "        return False\n",
    "    \n",
    "    input_str1 = input_str1.lower()\n",
    "    input_str2 = input_str2.lower()\n",
    "           \n",
    "    alphabet = 'abcdefghijklmnopqrstuvwxyz'\n",
    "    dict1 = dict.fromkeys(list(alphabet), 0)\n",
    "    dict2 = dict.fromkeys(list(alphabet), 0)\n",
    "    \n",
    "    for i in range(len(input_str1)):\n",
    "        dict1[input_str1[i]] += 1\n",
    "        dict2[input_str2[i]] += 1\n",
    "    \n",
    "    #frequency distribution same?\n",
    "    return dict1 == dict2"
   ]
  },
  {
   "cell_type": "code",
   "execution_count": 61,
   "metadata": {},
   "outputs": [
    {
     "data": {
      "text/plain": [
       "True"
      ]
     },
     "execution_count": 61,
     "metadata": {},
     "output_type": "execute_result"
    }
   ],
   "source": [
    "isAnagram(str1, str2)"
   ]
  },
  {
   "cell_type": "code",
   "execution_count": 62,
   "metadata": {},
   "outputs": [
    {
     "data": {
      "text/plain": [
       "False"
      ]
     },
     "execution_count": 62,
     "metadata": {},
     "output_type": "execute_result"
    }
   ],
   "source": [
    "isAnagram(str3, str4)"
   ]
  },
  {
   "cell_type": "markdown",
   "metadata": {},
   "source": [
    "### String Compression\n",
    "\n",
    "Problem:\n",
    "\n",
    "\n",
    "String Compression: Implement a method to perform basic string compression using the counts of repeated characters. For example, the string \"aabcccccaaa\" would become a2b1c5a3. If the \"compressed\" string would not become smaller than the original string, your method should return the original string. You can assume the string has only uppercase and lowercase letters (a-z).\n",
    "\n"
   ]
  },
  {
   "cell_type": "code",
   "execution_count": 63,
   "metadata": {},
   "outputs": [],
   "source": [
    "str1 = 'aabcccccaaa'\n",
    "str2 = 'aaaaaabbccbcaabb'"
   ]
  },
  {
   "cell_type": "code",
   "execution_count": 65,
   "metadata": {},
   "outputs": [],
   "source": [
    "def stringCompression(input_str):\n",
    "    compressed_str = ''\n",
    "    \n",
    "    count = 1\n",
    "    for i in range(len(input_str) - 1):\n",
    "        if input_str[i] == input_str[i+1]:\n",
    "            count += 1\n",
    "        else:\n",
    "            compressed_str += input_str[i] + str(count)\n",
    "            count = 1\n",
    "    \n",
    "    #catch the end of the string that was excluded in the loop\n",
    "    compressed_str += input_str[i] + str(count)\n",
    "    \n",
    "    if len(compressed_str) >= len(input_str):\n",
    "        return input_str\n",
    "    else: \n",
    "        return compressed_str"
   ]
  },
  {
   "cell_type": "code",
   "execution_count": 66,
   "metadata": {},
   "outputs": [
    {
     "data": {
      "text/plain": [
       "'a2b1c5a3'"
      ]
     },
     "execution_count": 66,
     "metadata": {},
     "output_type": "execute_result"
    }
   ],
   "source": [
    "stringCompression(str1)"
   ]
  },
  {
   "cell_type": "code",
   "execution_count": 67,
   "metadata": {},
   "outputs": [
    {
     "data": {
      "text/plain": [
       "'a6b2c2b1c1a2b2'"
      ]
     },
     "execution_count": 67,
     "metadata": {},
     "output_type": "execute_result"
    }
   ],
   "source": [
    "stringCompression(str2)"
   ]
  },
  {
   "cell_type": "markdown",
   "metadata": {},
   "source": [
    "###  String Rotation -- Hashtable\n",
    "Problem:\n",
    "\n",
    "String Rotation: Given two strings, s1 and s2, write code to check if s2 is a rotation of s1 (e.g. \"waterbottle\" is a rotation of \"erbottlewat\")."
   ]
  },
  {
   "cell_type": "code",
   "execution_count": 68,
   "metadata": {},
   "outputs": [],
   "source": [
    "import string\n",
    "\n",
    "test_rot_str_1 = \"waterbottle\"\n",
    "test_rot_str_2 = \"erbottlewat\"\n",
    "\n",
    "test_rot_str_3 = \"watertables\"\n",
    "test_rot_str_4 = \"erbottlewat\""
   ]
  },
  {
   "cell_type": "code",
   "execution_count": 69,
   "metadata": {},
   "outputs": [],
   "source": [
    "def isStringRotation(str1, str2):\n",
    "    if len(str1) != len(str2):\n",
    "        return False\n",
    "    \n",
    "    str1 = str1.lower()\n",
    "    str2 = str2.lower()\n",
    "    \n",
    "    alphabet = 'abcdefghijklmnopqrstuvwxyz'\n",
    "    #dict1 = dict.fromkeys(list(string.ascii_lower), 0)\n",
    "    dict1 = dict.fromkeys(list(alphabet), 0)\n",
    "    dict2 = dict.fromkeys(list(alphabet), 0)\n",
    "    \n",
    "    for i in range(len(str1)):\n",
    "        dict1[str1[i]] += 1\n",
    "        dict2[str2[i]] += 1\n",
    "    \n",
    "    #frequency distribution same?\n",
    "    return dict1 == dict2\n",
    "    "
   ]
  },
  {
   "cell_type": "code",
   "execution_count": 70,
   "metadata": {},
   "outputs": [
    {
     "data": {
      "text/plain": [
       "True"
      ]
     },
     "execution_count": 70,
     "metadata": {},
     "output_type": "execute_result"
    }
   ],
   "source": [
    "isStringRotation(test_rot_str_1, test_rot_str_2)"
   ]
  },
  {
   "cell_type": "code",
   "execution_count": 71,
   "metadata": {},
   "outputs": [
    {
     "data": {
      "text/plain": [
       "False"
      ]
     },
     "execution_count": 71,
     "metadata": {},
     "output_type": "execute_result"
    }
   ],
   "source": [
    "isStringRotation(test_rot_str_4, test_rot_str_3)"
   ]
  },
  {
   "cell_type": "markdown",
   "metadata": {},
   "source": [
    "### Count ones in binary representation\n",
    "\n",
    "Problem: Find the number of 1s in the binary representation of a number. For example:\n",
    "\n",
    "num_ones(2) = 1 -- since \"10\" is the binary representation of the number \"2\". \n",
    "\n",
    "num_ones(5) = 2 -- since \"101\" is the binary representation of the number \"5\"\n",
    "\n",
    "num_ones(11) = 3 -- since \"1011\" is the binary representation of the number \"11\""
   ]
  },
  {
   "cell_type": "code",
   "execution_count": 77,
   "metadata": {},
   "outputs": [
    {
     "name": "stdout",
     "output_type": "stream",
     "text": [
      "2\n"
     ]
    }
   ],
   "source": [
    "#Using bin()\n",
    "num = 5\n",
    "one_sum = 0\n",
    "bin_rep = bin(num)[2:]\n",
    "for i in bin_rep:\n",
    "    one_sum += int(i)\n",
    "        \n",
    "print(one_sum)       "
   ]
  },
  {
   "cell_type": "code",
   "execution_count": null,
   "metadata": {},
   "outputs": [],
   "source": [
    "#11 = '1011'\n",
    "\n",
    "#1011\n",
    "#0001 <- bit mask   take\n",
    "\n",
    "#101\n",
    "#001\n",
    "\n",
    "#10\n",
    "#01\n",
    "\n",
    "#1\n",
    "#1"
   ]
  },
  {
   "cell_type": "code",
   "execution_count": 78,
   "metadata": {},
   "outputs": [],
   "source": [
    "# & and >> shift\n",
    "def numOnes(num):\n",
    "    one_sum = 0\n",
    "    \n",
    "    while num:\n",
    "        one_sum += num & 1\n",
    "        num >>= 1\n",
    "    return one_sum"
   ]
  },
  {
   "cell_type": "code",
   "execution_count": 79,
   "metadata": {},
   "outputs": [
    {
     "data": {
      "text/plain": [
       "2"
      ]
     },
     "execution_count": 79,
     "metadata": {},
     "output_type": "execute_result"
    }
   ],
   "source": [
    "numOnes(5)"
   ]
  },
  {
   "cell_type": "code",
   "execution_count": null,
   "metadata": {},
   "outputs": [],
   "source": []
  }
 ],
 "metadata": {
  "kernelspec": {
   "display_name": "Python 3",
   "language": "python",
   "name": "python3"
  },
  "language_info": {
   "codemirror_mode": {
    "name": "ipython",
    "version": 3
   },
   "file_extension": ".py",
   "mimetype": "text/x-python",
   "name": "python",
   "nbconvert_exporter": "python",
   "pygments_lexer": "ipython3",
   "version": "3.6.7"
  }
 },
 "nbformat": 4,
 "nbformat_minor": 2
}
