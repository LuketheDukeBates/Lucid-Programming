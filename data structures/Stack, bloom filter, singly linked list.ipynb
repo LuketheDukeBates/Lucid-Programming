{
 "cells": [
  {
   "cell_type": "markdown",
   "metadata": {},
   "source": [
    "## Stack\n",
    "\n",
    "Problem: Use a stack data structure to convert integer values to their corresponding binary representation. \n",
    "\n",
    "Example: 242\n",
    "\n",
    "242 / 2 = 121 --> 0 (bottom of stack)\n",
    "\n",
    "121 / 2 = 60 --> 1\n",
    "\n",
    "60 / 2 = 30 --> 0\n",
    "\n",
    "30 / 2 = 15 --> 0\n",
    "\n",
    "15 / 2 =  7 --> 1\n",
    "\n",
    "7 / 2 = 3 --> 1\n",
    "\n",
    "3 / 2 = 1 --> 1\n",
    "\n",
    "1 / 2 = 0 --> 1 (top of stack)"
   ]
  },
  {
   "cell_type": "code",
   "execution_count": 1,
   "metadata": {},
   "outputs": [],
   "source": [
    "class Stack():\n",
    "    def __init__(self):\n",
    "        self.items = []\n",
    "    \n",
    "    def push(self, items):\n",
    "        self.items.append(items)\n",
    "    \n",
    "    def pop(self):\n",
    "        return self.items.pop()\n",
    "    \n",
    "    def is_empty(self):\n",
    "        return self.items == []\n",
    "    \n",
    "    def peek(self):\n",
    "        if not self.is_empty():\n",
    "            return self.items[-1]\n",
    "    \n",
    "    def get_stack(self):\n",
    "        return self.items"
   ]
  },
  {
   "cell_type": "code",
   "execution_count": 2,
   "metadata": {},
   "outputs": [
    {
     "data": {
      "text/plain": [
       "242"
      ]
     },
     "execution_count": 2,
     "metadata": {},
     "output_type": "execute_result"
    }
   ],
   "source": [
    "int('11110010', 2)"
   ]
  },
  {
   "cell_type": "code",
   "execution_count": 3,
   "metadata": {},
   "outputs": [],
   "source": [
    "def divBy2(dec_num):\n",
    "    s = Stack()\n",
    "    while dec_num > 0:\n",
    "        remainder = dec_num % 2\n",
    "        s.push(remainder)\n",
    "        dec_num = dec_num // 2\n",
    "    \n",
    "    bin_num = ''\n",
    "    while not s.is_empty():\n",
    "        bin_num += str(s.pop())\n",
    "        \n",
    "    return bin_num\n",
    "        "
   ]
  },
  {
   "cell_type": "code",
   "execution_count": 4,
   "metadata": {},
   "outputs": [
    {
     "name": "stdout",
     "output_type": "stream",
     "text": [
      "11110010\n"
     ]
    }
   ],
   "source": [
    "print(divBy2(242))"
   ]
  },
  {
   "cell_type": "markdown",
   "metadata": {},
   "source": [
    "### Bloom Filters\n",
    "\n",
    "the Bloom filter data structure; a data structure that is similar to a hash table but has improved space efficiency at the cost incorporating a probabilistic aspect.\n",
    "\n",
    "We implement a toy example of a Bloom filter in Python and use the idea of a Pokedex (a device for keeping track of the Pokemon we've seen and captured) the primary idea of our toy example. \n",
    "\n",
    "\n",
    "Noncryptographic hash functions (Murmur and FNV)\n"
   ]
  },
  {
   "cell_type": "markdown",
   "metadata": {},
   "source": [
    "## Singly Linked Lists -- Insertion and Deletion"
   ]
  },
  {
   "cell_type": "code",
   "execution_count": 140,
   "metadata": {},
   "outputs": [],
   "source": [
    "class Node:\n",
    "    def __init__(self, data):\n",
    "        self.data = data\n",
    "        self.next = None\n",
    "\n",
    "class LinkedList:\n",
    "    def __init__(self):\n",
    "        #first node in linked list\n",
    "        self.head = None\n",
    "        \n",
    "    def print_list(self):\n",
    "        cur_node = self.head\n",
    "        while cur_node:\n",
    "            print(cur_node.data)\n",
    "            cur_node = cur_node.next\n",
    "    \n",
    "    def append(self, data):\n",
    "        # add element to end of linked list\n",
    "        new_node = Node(data)\n",
    "        # pointing to nothing\n",
    "        if self.head is None:\n",
    "            self.head = new_node\n",
    "            return\n",
    "        \n",
    "        last_node = self.head\n",
    "        while last_node.next:\n",
    "            #move to right until pointing to actual last node\n",
    "            last_node = last_node.next\n",
    "        last_node.next = new_node\n",
    "    \n",
    "    def prepend(self, data):\n",
    "        # add node to beginning to linked list\n",
    "        new_node = Node(data)\n",
    "        new_node.next = self.head\n",
    "        self.head = new_node\n",
    "    \n",
    "    def insert_after_node(self, prev_node, data):\n",
    "        if not prev_node:\n",
    "            print(\"Previous node is not in the list\")\n",
    "            return\n",
    "        new_node = Node(data)\n",
    "        new_node.next = prev_node.next\n",
    "        prev_node.next = new_node\n",
    "    \n",
    "    def delete_node(self, key):\n",
    "        cur_node = self.head\n",
    "        \n",
    "        if cur_node and cur_node.data == key:\n",
    "            self.head = cur_node.next\n",
    "            cur_node = None\n",
    "            return\n",
    "        \n",
    "        prev = None\n",
    "        while cur_node and cur_node.data != key:\n",
    "            prev = cur_node\n",
    "            cur_node = cur_node.next\n",
    "        \n",
    "        if cur_node is None:\n",
    "            return\n",
    "        \n",
    "        prev.next = cur_node.next\n",
    "        cur_node = None\n",
    "    \n",
    "    \n",
    "    def delete_node_at_position(self, pos):\n",
    "        cur_node = self.head\n",
    "        if pos == 0:\n",
    "            self.head = cur_node.next\n",
    "            cur_node = None\n",
    "            return\n",
    "        \n",
    "        prev = None\n",
    "        count = 0\n",
    "        while cur_node and count != pos:\n",
    "            prev = cur_node\n",
    "            cur_node = cur_node.next\n",
    "            count += 1\n",
    "        \n",
    "        if cur_node is None:\n",
    "            print(\"Position greater than list length\")\n",
    "            return\n",
    "        \n",
    "        prev.next = cur_node.next\n",
    "        cur_node = None\n",
    "        \n",
    "    def length_iterative(self):\n",
    "        count = 0\n",
    "        cur_node = self.head\n",
    "        \n",
    "        while cur_node:\n",
    "            count += 1\n",
    "            cur_node = cur_node.next\n",
    "        return count\n",
    "    \n",
    "    def length_recursive(self, node):\n",
    "        #calling self method REQUIRES self\n",
    "        if node is None:\n",
    "            return 0\n",
    "        return 1 + self.length_recursive(node.next)\n",
    "    \n",
    "    def swap_nodes(self, key_1, key_2):\n",
    "        if key_1 == key_2:\n",
    "            return\n",
    "        \n",
    "        prev_1 = None\n",
    "        curr_1 = self.head\n",
    "        \n",
    "        while curr_1 and curr_1.data != key_1:\n",
    "            prev_1 = curr_1\n",
    "            curr_1 = curr_1.next\n",
    "        \n",
    "        prev_2 = None\n",
    "        curr_2 = self.head\n",
    "        \n",
    "        while curr_2 and curr_2.data != key_2:\n",
    "            prev_2 = curr_2\n",
    "            curr_2 = curr_2.next\n",
    "            \n",
    "        if not curr_1 or not curr_2:\n",
    "            return\n",
    "        \n",
    "        if prev_1:\n",
    "            prev_1.next = curr_2\n",
    "        else:\n",
    "            self.head = curr_2\n",
    "            \n",
    "        if prev_2:\n",
    "            prev_2.next = curr_1\n",
    "        else:\n",
    "            self.head = curr_1\n",
    "        \n",
    "        curr_1.next, curr_2.next = curr_2.next, curr_1.next\n",
    "    \n",
    "    def print_helper(self, node, name):\n",
    "        if node is None:\n",
    "            print(name + \": None\")\n",
    "        else: print(name + \":\" + node.data)\n",
    "    \n",
    "    # A -> B -> C -> D -> 0\n",
    "    # D -> C -> B -> A -> 0\n",
    "    # A <- B <- C <- D <- 0\n",
    "    def reverse_iterative(self):\n",
    "        \n",
    "        prev = None\n",
    "        cur = self.head\n",
    "        while cur:\n",
    "            #temp variable storing the pointer of the next node\n",
    "            nxt = cur.next\n",
    "            # flip the pointer\n",
    "            #self.print_helper(prev, \"PREV\")\n",
    "            #self.print_helper(cur, \"CUR\")\n",
    "            #self.print_helper(nxt, \"NXT\")\n",
    "            cur.next = prev\n",
    "            prev = cur\n",
    "            cur = nxt\n",
    "        \n",
    "        self.head = prev\n",
    "    \n",
    "    def reverse_recursive(self):\n",
    "        \n",
    "        def helper(cur, prev):\n",
    "            if not cur:\n",
    "                return prev\n",
    "            nxt = cur.next\n",
    "            cur.next = prev\n",
    "            prev = cur\n",
    "            cur = nxt\n",
    "            \n",
    "            return helper(cur, prev)\n",
    "        \n",
    "        self.head = helper(cur = self.head, prev = None)\n",
    "        \n",
    "    def merge_sorted(self, llist):\n",
    "        p = self.head\n",
    "        q = llist.head\n",
    "        s = None\n",
    "        \n",
    "        if not p:\n",
    "            return q\n",
    "        if not q:\n",
    "            return p\n",
    "        \n",
    "        if p and q:\n",
    "            if p.data <= q.data:\n",
    "                s = p\n",
    "                #s is always following p or q\n",
    "                p = s.next\n",
    "            else:\n",
    "                s = q\n",
    "                q = s.next\n",
    "            \n",
    "            new_head = s\n",
    "        \n",
    "        while p and q:\n",
    "            \n",
    "            if p.data <= q.data:\n",
    "                s.next = p\n",
    "                s = p\n",
    "                p = s.next\n",
    "                \n",
    "            else:\n",
    "                s.next = q\n",
    "                s = q\n",
    "                q = s.next\n",
    "        if not p:\n",
    "            s.next = q\n",
    "        if not q:\n",
    "            s.next = p\n",
    "        \n",
    "        return new_head\n",
    "    \n",
    "#Original list:\n",
    "# 1 -> 6 -> 1 -> 4 -> 2 -> 2 -> 4\n",
    "\n",
    "#Remove Duplicates:\n",
    "# 1 -> 6 -> 4 -> 2\n",
    "    def remove_duplicates(self):\n",
    "        # use hashtable to keep track of seen elements\n",
    "        \n",
    "        \n",
    "        cur = self.head\n",
    "        prev = None\n",
    "        \n",
    "        dup_values = {}\n",
    "        \n",
    "        #iterate through list\n",
    "        while cur:\n",
    "            \n",
    "            if cur.data in dup_values:\n",
    "                #remove node\n",
    "                prev.next = cur.next\n",
    "                cur = None\n",
    "              \n",
    "            else:\n",
    "                # not seen element before\n",
    "                dup_values[cur.data] = 1\n",
    "                prev = cur\n",
    "            \n",
    "            cur = prev.next\n",
    "            \n",
    "        \n",
    "    def print_nth_from_last(self, n):\n",
    "        # Method 2\n",
    "        p = self.head\n",
    "        q = self.head\n",
    "        \n",
    "        count = 0\n",
    "        while q and count < n:\n",
    "            q = q.next\n",
    "            count += 1\n",
    "        \n",
    "        if not q:\n",
    "            print(str(n)+ \" is greater then the number of nodes in list.\")\n",
    "            \n",
    "        while p and q:\n",
    "            p = p.next\n",
    "            q = q.next\n",
    "        return p.data\n",
    "        #Method 1\n",
    "        #total_len = self.length_iterative()\n",
    "\n",
    "        #cur = self.head\n",
    "\n",
    "        #while cur:\n",
    "        #    if total_len == n:\n",
    "        #        print(cur.data)\n",
    "        #        return cur\n",
    "        #    total_len -= 1\n",
    "        #    cur = cur.next\n",
    "\n",
    "        #if cur is None:\n",
    "         #   return\n",
    "            \n",
    "    def count_occurences_iterative(self, data):\n",
    "        count = 0\n",
    "        cur = self.head\n",
    "        while cur:\n",
    "            if cur.data == data:\n",
    "                count += 1\n",
    "            cur = cur.next\n",
    "        return count\n",
    "    \n",
    "    def count_occurences_recursive(self, node, data):\n",
    "        if not node:\n",
    "            return 0\n",
    "        if node.data == data:\n",
    "            return 1 + self.count_occurences_recursive(node.next, data)\n",
    "        else:\n",
    "            return self.count_occurences_recursive(node.next, data)\n",
    "    \n",
    "    def rotate(self, k):\n",
    "        p = self.head\n",
    "        q = self.head\n",
    "        prev = None\n",
    "        count = 0\n",
    "        while p is not None and count < k:\n",
    "            prev = p\n",
    "            p = p.next\n",
    "            q = q.next\n",
    "            count += 1\n",
    "        p = prev\n",
    "        \n",
    "        while q:\n",
    "            prev = q\n",
    "            q = q.next\n",
    "        q = prev\n",
    "        \n",
    "        q.next = self.head\n",
    "        self.head = p.next\n",
    "        p.next = None\n",
    "    \n",
    "    def is_palindrome(self):\n",
    "        #Method 1:\n",
    "        #store data in LL in string and see if str is same back to front\n",
    "        #storage = ''\n",
    "        #p = self.head\n",
    "        #while p:\n",
    "        #    storage += p.data\n",
    "        #    p = p.next\n",
    "        #return storage == storage[::-1]\n",
    "        \n",
    "        #Method 2:\n",
    "        #stack: iterature through and push all data elements from LL onto stack\n",
    "        #iterate again pop all elements off stack while comparing against elements in LL\n",
    "        #p = self.head\n",
    "        #stack = []\n",
    "        #while p:\n",
    "        #    stack.append(p.data)\n",
    "        #    p = p.next\n",
    "        \n",
    "        #otherwise p is at the end of the LL\n",
    "        #p = self.head\n",
    "        \n",
    "        #while p:\n",
    "        #    data = stack.pop()\n",
    "        #    if data != p.data:\n",
    "        #        return False\n",
    "        #    p = p.next\n",
    "        \n",
    "        #return True\n",
    "        \n",
    "        #Method 3:\n",
    "        #two pointers at head (P) and end of list (Q). check data at each point. if equal\n",
    "        #increment P and decrement Q until they meet or can't move without crossing.\n",
    "        #SLL, so can't move Q backwards, so store the nodes it's seen in list which will be\n",
    "        #sequential. refer to list to figure out its previous nodes\n",
    "        p = self.head\n",
    "        q = self.head\n",
    "        prev_nodes = []\n",
    "        i = 0\n",
    "        \n",
    "        while q:\n",
    "            prev_nodes.append(q)\n",
    "            q = q.next\n",
    "            i += 1\n",
    "        q = prev_nodes[i-1]\n",
    "        \n",
    "        #offset by one\n",
    "        # i now length of LL\n",
    "        count = 1\n",
    "        while count <= i//2 + 1:\n",
    "            #indexing end elements\n",
    "            if prev_nodes[-count].data != p.data:\n",
    "                return False\n",
    "            p = p.next\n",
    "            count += 1\n",
    "        \n",
    "        return True\n",
    "    \n",
    "    # A -> B -> C -> D -> Null\n",
    "    # D -> A -> B -> C -> Null\n",
    "    def move_tail_to_head(self):\n",
    "        #one pointer looks at last node\n",
    "        #one pointer looks at second to last node\n",
    "        # D-> A, C-> Null\n",
    "        last = self.head\n",
    "        second_to_last = None\n",
    "        while last.next:\n",
    "            second_to_last = last\n",
    "            last = last.next\n",
    "        \n",
    "        last.next = self.head\n",
    "        second_to_last.next = None\n",
    "        self.head = last\n",
    "    \n",
    "    #3 6 5\n",
    "    #2 4 8\n",
    "    #365 + 248\n",
    "    def sum_two_lists(self, llist):\n",
    "        p = self.head\n",
    "        q = llist.head\n",
    "        sum_llist = LinkedList()\n",
    "        \n",
    "        carry = 0\n",
    "        while p or q:\n",
    "            # if node we're on is None, add 0\n",
    "            if not p:\n",
    "                i = 0\n",
    "            else:\n",
    "                i = p.data\n",
    "            \n",
    "            if not q:\n",
    "                j = 0\n",
    "            else:\n",
    "                j = q.data\n",
    "            \n",
    "            add = i + j + carry\n",
    "            if add >= 10:\n",
    "                carry = 1\n",
    "                #13%10 = 3\n",
    "                remainder = add%10\n",
    "                sum_llist.append(remainder)\n",
    "            else:\n",
    "                carry = 0\n",
    "                sum_llist.append(add)\n",
    "            \n",
    "            #p or q could be None\n",
    "            if p:\n",
    "                p = p.next\n",
    "            if q:\n",
    "                q = q.next\n",
    "        \n",
    "        sum_llist.print_list()\n",
    "            \n",
    "\n",
    "    "
   ]
  },
  {
   "cell_type": "code",
   "execution_count": null,
   "metadata": {},
   "outputs": [],
   "source": []
  },
  {
   "cell_type": "code",
   "execution_count": 55,
   "metadata": {},
   "outputs": [
    {
     "name": "stdout",
     "output_type": "stream",
     "text": [
      "A\n",
      "B\n",
      "C\n",
      "D\n"
     ]
    }
   ],
   "source": [
    "llist.print_list()"
   ]
  },
  {
   "cell_type": "code",
   "execution_count": 17,
   "metadata": {},
   "outputs": [],
   "source": [
    "llist.prepend('E')"
   ]
  },
  {
   "cell_type": "code",
   "execution_count": 18,
   "metadata": {},
   "outputs": [
    {
     "name": "stdout",
     "output_type": "stream",
     "text": [
      "E\n",
      "A\n",
      "B\n",
      "C\n",
      "D\n"
     ]
    }
   ],
   "source": [
    "llist.print_list()"
   ]
  },
  {
   "cell_type": "code",
   "execution_count": 19,
   "metadata": {},
   "outputs": [],
   "source": [
    "llist.insert_after_node(llist.head.next, \"F\")"
   ]
  },
  {
   "cell_type": "code",
   "execution_count": 20,
   "metadata": {},
   "outputs": [
    {
     "name": "stdout",
     "output_type": "stream",
     "text": [
      "E\n",
      "A\n",
      "F\n",
      "B\n",
      "C\n",
      "D\n"
     ]
    }
   ],
   "source": [
    "llist.print_list()"
   ]
  },
  {
   "cell_type": "code",
   "execution_count": 21,
   "metadata": {},
   "outputs": [],
   "source": [
    "llist.delete_node('B')"
   ]
  },
  {
   "cell_type": "code",
   "execution_count": 22,
   "metadata": {},
   "outputs": [
    {
     "name": "stdout",
     "output_type": "stream",
     "text": [
      "E\n",
      "A\n",
      "F\n",
      "C\n",
      "D\n"
     ]
    }
   ],
   "source": [
    "llist.print_list()"
   ]
  },
  {
   "cell_type": "code",
   "execution_count": 23,
   "metadata": {},
   "outputs": [],
   "source": [
    "llist.delete_node_at_position(2)"
   ]
  },
  {
   "cell_type": "code",
   "execution_count": 24,
   "metadata": {},
   "outputs": [
    {
     "name": "stdout",
     "output_type": "stream",
     "text": [
      "E\n",
      "A\n",
      "C\n",
      "D\n"
     ]
    }
   ],
   "source": [
    "llist.print_list()"
   ]
  },
  {
   "cell_type": "markdown",
   "metadata": {},
   "source": [
    "## Linked List  Length\n",
    "\n",
    "computing the length of a given linked list both iteratively and recursively in Python.\n"
   ]
  },
  {
   "cell_type": "code",
   "execution_count": 25,
   "metadata": {},
   "outputs": [
    {
     "data": {
      "text/plain": [
       "4"
      ]
     },
     "execution_count": 25,
     "metadata": {},
     "output_type": "execute_result"
    }
   ],
   "source": [
    "llist.length_iterative()"
   ]
  },
  {
   "cell_type": "code",
   "execution_count": 26,
   "metadata": {},
   "outputs": [
    {
     "name": "stdout",
     "output_type": "stream",
     "text": [
      "4\n"
     ]
    }
   ],
   "source": [
    "print(llist.length_recursive(llist.head))"
   ]
  },
  {
   "cell_type": "markdown",
   "metadata": {},
   "source": [
    "### Linked List --  Node Swap\n",
    "\n",
    "how to swap two different nodes in a singly linked list. "
   ]
  },
  {
   "cell_type": "code",
   "execution_count": 47,
   "metadata": {},
   "outputs": [],
   "source": [
    "llist.swap_nodes(\"A\", \"C\")"
   ]
  },
  {
   "cell_type": "code",
   "execution_count": 48,
   "metadata": {},
   "outputs": [
    {
     "name": "stdout",
     "output_type": "stream",
     "text": [
      "C\n",
      "B\n",
      "A\n",
      "D\n"
     ]
    }
   ],
   "source": [
    "llist.print_list()"
   ]
  },
  {
   "cell_type": "markdown",
   "metadata": {},
   "source": [
    "### Stack -- reverse a string\n",
    "use of the stack data structure to reverse a string"
   ]
  },
  {
   "cell_type": "code",
   "execution_count": 50,
   "metadata": {},
   "outputs": [
    {
     "name": "stdout",
     "output_type": "stream",
     "text": [
      "olleH\n"
     ]
    }
   ],
   "source": [
    "#Native python implementation\n",
    "input_str = \"Hello\"\n",
    "print(input_str[::-1])"
   ]
  },
  {
   "cell_type": "code",
   "execution_count": 33,
   "metadata": {},
   "outputs": [],
   "source": [
    "def reverseString(stack, input_str):\n",
    "    rev_str = ''\n",
    "    #loop through string and push content onto stack\n",
    "    for i in range(len(input_str)):\n",
    "        stack.push(input_str[i])\n",
    "    # if stack isn't empty, pop content of stack onto string\n",
    "    while not stack.is_empty():\n",
    "        rev_str += stack.pop()\n",
    "        \n",
    "    return rev_str"
   ]
  },
  {
   "cell_type": "code",
   "execution_count": 34,
   "metadata": {},
   "outputs": [],
   "source": [
    "stack = Stack()"
   ]
  },
  {
   "cell_type": "code",
   "execution_count": 35,
   "metadata": {},
   "outputs": [
    {
     "data": {
      "text/plain": [
       "'olleH'"
      ]
     },
     "execution_count": 35,
     "metadata": {},
     "output_type": "execute_result"
    }
   ],
   "source": [
    "reverseString(stack, input_str)"
   ]
  },
  {
   "cell_type": "code",
   "execution_count": 52,
   "metadata": {},
   "outputs": [],
   "source": [
    "def reverseString(stack, input_str):\n",
    "    rev_str = '' \n",
    "    stack = []\n",
    "    for char in input_str:\n",
    "        stack.append(char)\n",
    "    for i in range(len(input_str)):\n",
    "        rev_str += stack.pop()\n",
    "        \n",
    "    return rev_str"
   ]
  },
  {
   "cell_type": "code",
   "execution_count": 53,
   "metadata": {},
   "outputs": [
    {
     "data": {
      "text/plain": [
       "'olleH'"
      ]
     },
     "execution_count": 53,
     "metadata": {},
     "output_type": "execute_result"
    }
   ],
   "source": [
    "reverseString(stack, input_str)"
   ]
  },
  {
   "cell_type": "markdown",
   "metadata": {},
   "source": [
    "## Singly Linked Lists -- Reverse\n",
    "\n",
    "\n",
    "how to reverse the order of the nodes in a singly linked list. We will solve this problem in both an iterative and recursive manner. \n"
   ]
  },
  {
   "cell_type": "code",
   "execution_count": 63,
   "metadata": {},
   "outputs": [
    {
     "name": "stdout",
     "output_type": "stream",
     "text": [
      "D\n",
      "C\n",
      "B\n",
      "A\n"
     ]
    }
   ],
   "source": [
    "llist.reverse_iterative()\n",
    "llist.print_list()"
   ]
  },
  {
   "cell_type": "code",
   "execution_count": 68,
   "metadata": {},
   "outputs": [
    {
     "name": "stdout",
     "output_type": "stream",
     "text": [
      "D\n",
      "C\n",
      "B\n",
      "A\n"
     ]
    }
   ],
   "source": [
    "llist.reverse_recursive()\n",
    "llist.print_list()"
   ]
  },
  {
   "cell_type": "markdown",
   "metadata": {},
   "source": [
    "## Singly Linked Lists -- Merge Two Sorted Lists\n",
    "\n",
    " how to merge two sorted singly linked lists."
   ]
  },
  {
   "cell_type": "code",
   "execution_count": 77,
   "metadata": {},
   "outputs": [
    {
     "name": "stdout",
     "output_type": "stream",
     "text": [
      "1\n",
      "5\n",
      "7\n",
      "9\n",
      "10\n",
      "\n",
      "2\n",
      "3\n",
      "4\n",
      "6\n",
      "8\n",
      "\n",
      "1\n",
      "2\n",
      "3\n",
      "4\n",
      "5\n",
      "6\n",
      "7\n",
      "8\n",
      "9\n",
      "10\n"
     ]
    }
   ],
   "source": [
    "llist_1 = LinkedList()\n",
    "llist_2 = LinkedList()\n",
    "\n",
    "llist_1.append(1)\n",
    "llist_1.append(5)\n",
    "llist_1.append(7)\n",
    "llist_1.append(9)\n",
    "llist_1.append(10)\n",
    "\n",
    "llist_2.append(2)\n",
    "llist_2.append(3)\n",
    "llist_2.append(4)\n",
    "llist_2.append(6)\n",
    "llist_2.append(8)\n",
    "\n",
    "\n",
    "llist_1.print_list()\n",
    "print()\n",
    "llist_2.print_list()\n",
    "print()\n",
    "llist_1.merge_sorted(llist_2)\n",
    "llist_1.print_list()"
   ]
  },
  {
   "cell_type": "markdown",
   "metadata": {},
   "source": [
    "### Singly Linked Lists -- Remove Duplicates\n",
    "how to remove nodes in our singly linked list with duplicated data entries. For instance, if our singly linked list looks like this:\n",
    "\n",
    "1 - 6 - 1 - 4 - 2 - 2 - 4\n",
    "\n",
    "Then the desired resulting singly linked list should take the form:\n",
    "\n",
    "1 - 6 - 4 - 2"
   ]
  },
  {
   "cell_type": "code",
   "execution_count": 84,
   "metadata": {},
   "outputs": [
    {
     "name": "stdout",
     "output_type": "stream",
     "text": [
      "1\n",
      "6\n",
      "1\n",
      "4\n",
      "2\n",
      "2\n",
      "4\n"
     ]
    }
   ],
   "source": [
    "llist = LinkedList()\n",
    "llist.append(1)\n",
    "llist.append(6)\n",
    "llist.append(1)\n",
    "llist.append(4)\n",
    "llist.append(2)\n",
    "llist.append(2)\n",
    "llist.append(4)\n",
    "llist.print_list()"
   ]
  },
  {
   "cell_type": "code",
   "execution_count": 85,
   "metadata": {},
   "outputs": [],
   "source": [
    "llist.remove_duplicates()"
   ]
  },
  {
   "cell_type": "code",
   "execution_count": 86,
   "metadata": {},
   "outputs": [
    {
     "name": "stdout",
     "output_type": "stream",
     "text": [
      "1\n",
      "6\n",
      "4\n",
      "2\n"
     ]
    }
   ],
   "source": [
    "llist.print_list()"
   ]
  },
  {
   "cell_type": "markdown",
   "metadata": {},
   "source": [
    "### Singly Linked Lists -- Nth-to-Last Node\n",
    "how to find the nth-to-last node in a singly linked list. "
   ]
  },
  {
   "cell_type": "code",
   "execution_count": 98,
   "metadata": {},
   "outputs": [
    {
     "name": "stdout",
     "output_type": "stream",
     "text": [
      "A\n",
      "B\n",
      "C\n",
      "D\n",
      "\n",
      "C\n"
     ]
    }
   ],
   "source": [
    "llist = LinkedList()\n",
    "llist.append(\"A\")\n",
    "llist.append(\"B\")\n",
    "llist.append(\"C\")\n",
    "llist.append(\"D\")\n",
    "llist.print_list()\n",
    "\n",
    "print()\n",
    "print(llist.print_nth_from_last(2))"
   ]
  },
  {
   "cell_type": "markdown",
   "metadata": {},
   "source": [
    "### Singly Linked Lists -- Count Occurrences\n",
    "how to count the occurrence of nodes with a specified data element. We consider how one may solve this problem in both an iterative and recursive manner,\n"
   ]
  },
  {
   "cell_type": "code",
   "execution_count": 108,
   "metadata": {},
   "outputs": [
    {
     "name": "stdout",
     "output_type": "stream",
     "text": [
      "1\n",
      "2\n",
      "1\n",
      "3\n",
      "1\n",
      "4\n",
      "1\n",
      "\n",
      "4\n"
     ]
    }
   ],
   "source": [
    "# 1 --> 2 --> 1 --> 3 --> 1 --> 4 --> 1\n",
    "# number of ones: 4\n",
    "llist = LinkedList()\n",
    "llist.append(1)\n",
    "llist.append(2)\n",
    "llist.append(1)\n",
    "llist.append(3)\n",
    "llist.append(1)\n",
    "llist.append(4)\n",
    "llist.append(1)\n",
    "llist.print_list()\n",
    "print()\n",
    "\n",
    "print(llist.count_occurences_iterative(1))"
   ]
  },
  {
   "cell_type": "code",
   "execution_count": 109,
   "metadata": {},
   "outputs": [
    {
     "name": "stdout",
     "output_type": "stream",
     "text": [
      "4\n"
     ]
    }
   ],
   "source": [
    "print(llist.count_occurences_recursive(llist.head, 1))"
   ]
  },
  {
   "cell_type": "markdown",
   "metadata": {},
   "source": [
    "### Singly Linked Lists -- Rotate\n",
    "how to rotate the nodes of a singly linked list around a specified pivot element. \n"
   ]
  },
  {
   "cell_type": "code",
   "execution_count": 117,
   "metadata": {},
   "outputs": [
    {
     "name": "stdout",
     "output_type": "stream",
     "text": [
      "1\n",
      "2\n",
      "3\n",
      "4\n",
      "5\n",
      "6\n",
      "\n",
      "5\n",
      "6\n",
      "1\n",
      "2\n",
      "3\n",
      "4\n"
     ]
    }
   ],
   "source": [
    "llist = LinkedList()\n",
    "\n",
    "llist.append(1)\n",
    "llist.append(2)\n",
    "llist.append(3)\n",
    "llist.append(4)\n",
    "llist.append(5)\n",
    "llist.append(6)\n",
    "llist.print_list()\n",
    "llist.rotate(4)\n",
    "print()\n",
    "llist.print_list()"
   ]
  },
  {
   "cell_type": "markdown",
   "metadata": {},
   "source": [
    "### Singly Linked Lists -- Is Palindrome\n",
    "\n",
    "how to determine if a singly linked list is a palindrome, that is if the data held at each of the nodes in the linked list can be read forward or backward to generate the same content. "
   ]
  },
  {
   "cell_type": "code",
   "execution_count": 133,
   "metadata": {},
   "outputs": [
    {
     "name": "stdout",
     "output_type": "stream",
     "text": [
      "R\n",
      "A\n",
      "D\n",
      "A\n",
      "R\n",
      "\n",
      "A\n",
      "B\n",
      "C\n"
     ]
    }
   ],
   "source": [
    "llist1 = LinkedList()\n",
    "\n",
    "llist1.append(\"R\")\n",
    "llist1.append(\"A\")\n",
    "llist1.append(\"D\")\n",
    "llist1.append(\"A\")\n",
    "llist1.append(\"R\")\n",
    "llist1.print_list()\n",
    "print()\n",
    "llist2 = LinkedList()\n",
    "llist2.append(\"A\")\n",
    "llist2.append(\"B\")\n",
    "llist2.append(\"C\")\n",
    "llist2.print_list()"
   ]
  },
  {
   "cell_type": "code",
   "execution_count": 134,
   "metadata": {},
   "outputs": [
    {
     "data": {
      "text/plain": [
       "True"
      ]
     },
     "execution_count": 134,
     "metadata": {},
     "output_type": "execute_result"
    }
   ],
   "source": [
    "llist1.is_palindrome()"
   ]
  },
  {
   "cell_type": "code",
   "execution_count": 135,
   "metadata": {},
   "outputs": [
    {
     "data": {
      "text/plain": [
       "False"
      ]
     },
     "execution_count": 135,
     "metadata": {},
     "output_type": "execute_result"
    }
   ],
   "source": [
    "llist2.is_palindrome()"
   ]
  },
  {
   "cell_type": "markdown",
   "metadata": {},
   "source": [
    "###  Move Tail to Head\n",
    "how to move the tail (or last) node in a singly linked list to the front of the list such that it becomes the new head of the list."
   ]
  },
  {
   "cell_type": "code",
   "execution_count": 138,
   "metadata": {},
   "outputs": [
    {
     "name": "stdout",
     "output_type": "stream",
     "text": [
      "A\n",
      "B\n",
      "C\n",
      "D\n",
      "\n",
      "D\n",
      "A\n",
      "B\n",
      "C\n"
     ]
    }
   ],
   "source": [
    "llist = LinkedList()\n",
    "llist.append(\"A\")\n",
    "llist.append(\"B\")\n",
    "llist.append(\"C\")\n",
    "llist.append(\"D\")\n",
    "llist.print_list()\n",
    "print()\n",
    "llist.move_tail_to_head()\n",
    "llist.print_list()"
   ]
  },
  {
   "cell_type": "markdown",
   "metadata": {},
   "source": [
    "### Singly Linked Lists -- Sum Two Lists\n",
    "how to sum two singly linked lists. "
   ]
  },
  {
   "cell_type": "code",
   "execution_count": 141,
   "metadata": {},
   "outputs": [
    {
     "name": "stdout",
     "output_type": "stream",
     "text": [
      "5\n",
      "6\n",
      "3\n",
      "\n",
      "8\n",
      "4\n",
      "2\n",
      "\n",
      "613\n",
      "3\n",
      "1\n",
      "6\n",
      "None\n"
     ]
    }
   ],
   "source": [
    "llist1 = LinkedList()\n",
    "llist1.append(5)\n",
    "llist1.append(6)\n",
    "llist1.append(3)\n",
    "llist1.print_list()\n",
    "print()\n",
    "llist2 = LinkedList()\n",
    "llist2.append(8)\n",
    "llist2.append(4)\n",
    "llist2.append(2)\n",
    "llist2.print_list()\n",
    "print()\n",
    "print(365 + 248)\n",
    "print(llist1.sum_two_lists(llist2))"
   ]
  },
  {
   "cell_type": "code",
   "execution_count": null,
   "metadata": {},
   "outputs": [],
   "source": []
  }
 ],
 "metadata": {
  "kernelspec": {
   "display_name": "Python 3",
   "language": "python",
   "name": "python3"
  },
  "language_info": {
   "codemirror_mode": {
    "name": "ipython",
    "version": 3
   },
   "file_extension": ".py",
   "mimetype": "text/x-python",
   "name": "python",
   "nbconvert_exporter": "python",
   "pygments_lexer": "ipython3",
   "version": "3.6.7"
  }
 },
 "nbformat": 4,
 "nbformat_minor": 2
}
