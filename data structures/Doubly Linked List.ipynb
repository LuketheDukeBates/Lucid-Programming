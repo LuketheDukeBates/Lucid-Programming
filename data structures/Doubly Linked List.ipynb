{
 "cells": [
  {
   "cell_type": "markdown",
   "metadata": {},
   "source": [
    "## Doubly Linked Lists -- Append and Prepend\n",
    "\n",
    "the doubly linked list data structure. We then code up an implementation of this data structure in Python. After that, we look at how to append (add elements to the back of the doubly linked list) and prepend (add elements to the front of the doubly linked list). We then write a print function to verify that the append and prepend functions work as expected."
   ]
  },
  {
   "cell_type": "code",
   "execution_count": 30,
   "metadata": {},
   "outputs": [
    {
     "name": "stdout",
     "output_type": "stream",
     "text": [
      "1\n",
      "2\n",
      "3\n",
      "4\n",
      "5\n"
     ]
    }
   ],
   "source": [
    "class Node:\n",
    "    def __init__(self, data):\n",
    "        self.data = data\n",
    "        self.next = None\n",
    "        self.prev = None\n",
    "\n",
    "class DoublyLinkedList:\n",
    "    def __init__(self):\n",
    "        self.head = None\n",
    "    \n",
    "    def append(self, data):\n",
    "        if self.head is None:\n",
    "            new_node = Node(data)\n",
    "            new_node.prev = None\n",
    "            self.head = new_node\n",
    "        else:\n",
    "            new_node = Node(data)\n",
    "            cur = self.head\n",
    "            while cur.next:\n",
    "                cur = cur.next\n",
    "            cur.next = new_node\n",
    "            #cur is last node\n",
    "            new_node.prev = cur\n",
    "            new_node.next = None\n",
    "            \n",
    "    \n",
    "    def prepend(self, data):\n",
    "        if self.head == None:\n",
    "            new_node = Node(data)\n",
    "            new_node.prev = None\n",
    "            self.head = new_node\n",
    "        else:\n",
    "            new_node = Node(data)\n",
    "            self.head.prev = new_node\n",
    "            new_node.next = self.head\n",
    "            self.head = new_node\n",
    "            new_node.prev = None\n",
    "    \n",
    "    def print_list(self):\n",
    "        cur = self.head\n",
    "        while cur:\n",
    "            print(cur.data)\n",
    "            cur = cur.next\n",
    "    \n",
    "    def add_after_node(self, key, data):\n",
    "        cur = self.head\n",
    "        while cur:\n",
    "            if cur.next is None and cur.data == key:\n",
    "                self.append(data)\n",
    "                return\n",
    "            elif cur.data == key:\n",
    "                new_node = Node(data)\n",
    "                nxt = cur.next\n",
    "                cur.next = new_node\n",
    "                new_node.next = nxt\n",
    "                new_node.prev = cur\n",
    "                nxt.prev = new_node\n",
    "            cur = cur.next             \n",
    "                \n",
    "    def add_before_node(self, key, data):\n",
    "        cur = self.head\n",
    "        while cur:\n",
    "            if cur.prev is None and cur.data == key:\n",
    "                self.prepend(data)\n",
    "                return\n",
    "            elif cur.data == key:\n",
    "                new_node = Node(data)\n",
    "                prev = cur.prev\n",
    "                prev.next = new_node\n",
    "                cur.prev = new_node\n",
    "                new_node.next = cur\n",
    "                new_node.prev = prev                \n",
    "            cur = cur.next\n",
    "        \n",
    "    def delete(self, key):\n",
    "        cur = self.head\n",
    "        while cur:\n",
    "            if cur.data == key and cur == self.head:\n",
    "                #Case 1 -- pointing at None\n",
    "                if not cur.next:\n",
    "                    cur = None\n",
    "                    self.head = None\n",
    "                    return\n",
    "                \n",
    "                # Case 2 pointing at something\n",
    "                else:\n",
    "                    nxt = cur.next\n",
    "                    cur.next = None \n",
    "                    nxt.prev = None\n",
    "                    cur = None\n",
    "                    self.head = nxt\n",
    "                    return\n",
    "            \n",
    "            elif cur.data == key:\n",
    "                # Case 3 -point to node around delete node, then delete node\n",
    "                if cur.next:\n",
    "                    nxt = cur.next\n",
    "                    prev = cur.prev\n",
    "                    prev.next = nxt\n",
    "                    nxt.prev = prev\n",
    "                    cur.next = None\n",
    "                    cur.prev = None\n",
    "                    cur = None\n",
    "                    return\n",
    "                #Case 4 -- current.next is pointing at None\n",
    "                else:\n",
    "                    prev = cur.prev\n",
    "                    prev.next = None\n",
    "                    cur.prev = None\n",
    "                    cur = None\n",
    "                    return\n",
    "        \n",
    "            cur = cur.next\n",
    "        \n",
    "    def delete_node(self, node):\n",
    "        cur = self.head\n",
    "        while cur:\n",
    "            if cur == node and cur == self.head:\n",
    "                #Case 1 -- pointing at None\n",
    "                if not cur.next:\n",
    "                    cur = None\n",
    "                    self.head = None\n",
    "                    return\n",
    "                \n",
    "                # Case 2 pointing at something\n",
    "                else:\n",
    "                    nxt = cur.next\n",
    "                    cur.next = None \n",
    "                    nxt.prev = None\n",
    "                    cur = None\n",
    "                    self.head = nxt\n",
    "                    return\n",
    "            \n",
    "            elif cur == node:\n",
    "                # Case 3 -point to node around delete node, then delete node\n",
    "                if cur.next:\n",
    "                    nxt = cur.next\n",
    "                    prev = cur.prev\n",
    "                    prev.next = nxt\n",
    "                    nxt.prev = prev\n",
    "                    cur.next = None\n",
    "                    cur.prev = None\n",
    "                    cur = None\n",
    "                    return\n",
    "                #Case 4 -- current.next is pointing at None\n",
    "                else:\n",
    "                    prev = cur.prev\n",
    "                    prev.next = None\n",
    "                    cur.prev = None\n",
    "                    cur = None\n",
    "                    return\n",
    "        \n",
    "            cur = cur.next\n",
    "    \n",
    "    def reverse(self):\n",
    "        tmp = None\n",
    "        cur = self.head\n",
    "        while cur:\n",
    "            tmp = cur.prev\n",
    "            cur.prev = cur.next\n",
    "            cur.next = tmp\n",
    "            cur = cur.prev\n",
    "        if tmp:\n",
    "            self.head = tmp.prev\n",
    "    \n",
    "    def remove_duplicates(self):\n",
    "        #use hashtable\n",
    "        cur = self.head\n",
    "        seen = {}\n",
    "        while cur:\n",
    "            if cur.data not in seen:\n",
    "                seen[cur.data] = 1\n",
    "                cur = cur.next\n",
    "            else:\n",
    "                nxt = cur.next\n",
    "                self.delete_node(cur)\n",
    "                cur = nxt\n",
    "            \n",
    "    def pairs_with_sum(self, sum_val):\n",
    "        #(1, 2), (1, 3), (1, 4), (1, 5)\n",
    "        #(2, 3), (2, 4), (2, 5)\n",
    "        #(3, 4)  (3, 5)\n",
    "        #(4, 5)\n",
    "        pairs = []\n",
    "        # two pointers: p and q\n",
    "        p = self.head\n",
    "        q = None\n",
    "        while p:\n",
    "            q = p.next\n",
    "            \n",
    "            while q:\n",
    "                if p.data + q.data == sum_val:\n",
    "                    pairs.append(\"(\" + str(p.data) + \",\" + str(q.data) + \")\")\n",
    "                q = q.next            \n",
    "            p = p.next\n",
    "            \n",
    "        return pairs\n",
    "       \n",
    "\n",
    "dllist = DoublyLinkedList()\n",
    "\n",
    "dllist.append(1)\n",
    "dllist.append(2)\n",
    "dllist.append(3)\n",
    "dllist.append(4)\n",
    "dllist.append(5)\n",
    "\n",
    "dllist.print_list()\n"
   ]
  },
  {
   "cell_type": "markdown",
   "metadata": {},
   "source": [
    "###  Doubly Linked Lists -- Add Node Before/After\n",
    "\n",
    "how to add nodes either before or after a specified node in a doubly linked list. "
   ]
  },
  {
   "cell_type": "code",
   "execution_count": 15,
   "metadata": {},
   "outputs": [
    {
     "name": "stdout",
     "output_type": "stream",
     "text": [
      "-1\n",
      "0\n",
      "11\n",
      "11\n",
      "11\n",
      "1\n",
      "12\n",
      "12\n",
      "12\n",
      "2\n",
      "3\n",
      "14\n",
      "14\n",
      "14\n",
      "4\n"
     ]
    }
   ],
   "source": [
    "dllist.add_before_node(1, 11)\n",
    "dllist.add_before_node(2, 12)\n",
    "dllist.add_before_node(4, 14)\n",
    "dllist.print_list()"
   ]
  },
  {
   "cell_type": "markdown",
   "metadata": {},
   "source": [
    "## Doubly Linked Lists -- Delete Node\n",
    "how to delete, or, remove nodes from a doubly linked list. Once we cover the concept of how to perform this action"
   ]
  },
  {
   "cell_type": "code",
   "execution_count": 18,
   "metadata": {},
   "outputs": [
    {
     "name": "stdout",
     "output_type": "stream",
     "text": [
      "2\n",
      "3\n",
      "4\n"
     ]
    }
   ],
   "source": [
    "dllist.delete(1)\n",
    "dllist.print_list()"
   ]
  },
  {
   "cell_type": "code",
   "execution_count": 19,
   "metadata": {},
   "outputs": [
    {
     "name": "stdout",
     "output_type": "stream",
     "text": [
      "2\n",
      "3\n",
      "4\n"
     ]
    }
   ],
   "source": [
    "dllist.delete(6)\n",
    "dllist.print_list()"
   ]
  },
  {
   "cell_type": "code",
   "execution_count": 20,
   "metadata": {},
   "outputs": [
    {
     "name": "stdout",
     "output_type": "stream",
     "text": [
      "2\n",
      "3\n"
     ]
    }
   ],
   "source": [
    "dllist.delete(4)\n",
    "dllist.print_list()"
   ]
  },
  {
   "cell_type": "code",
   "execution_count": 21,
   "metadata": {},
   "outputs": [],
   "source": [
    "dllist.delete(2)\n",
    "dllist.delete(3)\n",
    "\n",
    "dllist.print_list()"
   ]
  },
  {
   "cell_type": "markdown",
   "metadata": {},
   "source": [
    "##  Doubly Linked Lists -- Reverse\n",
    "how to reverse the nodes in a doubly linked list."
   ]
  },
  {
   "cell_type": "code",
   "execution_count": 23,
   "metadata": {},
   "outputs": [
    {
     "name": "stdout",
     "output_type": "stream",
     "text": [
      "4\n",
      "3\n",
      "2\n",
      "1\n",
      "\n",
      "1\n",
      "2\n",
      "3\n",
      "4\n"
     ]
    }
   ],
   "source": [
    "dllist.print_list()\n",
    "print()\n",
    "dllist.reverse()\n",
    "dllist.print_list()"
   ]
  },
  {
   "cell_type": "markdown",
   "metadata": {},
   "source": [
    "### Doubly Linked Lists -- Remove Duplicates\n",
    "how to remove duplicates from a doubly linked list"
   ]
  },
  {
   "cell_type": "code",
   "execution_count": 29,
   "metadata": {},
   "outputs": [
    {
     "name": "stdout",
     "output_type": "stream",
     "text": [
      "8\n",
      "4\n",
      "4\n",
      "6\n",
      "4\n",
      "8\n",
      "4\n",
      "10\n",
      "12\n",
      "12\n",
      "\n",
      "8\n",
      "4\n",
      "6\n",
      "10\n",
      "12\n"
     ]
    }
   ],
   "source": [
    "dllist.print_list()\n",
    "print()\n",
    "dllist.remove_duplicates()\n",
    "dllist.print_list()"
   ]
  },
  {
   "cell_type": "markdown",
   "metadata": {},
   "source": [
    "### Doubly Linked Lists -- Pairs with Sum\n",
    "\n",
    "how to find pairs in a doubly linked list whose sum is equal to given value. "
   ]
  },
  {
   "cell_type": "code",
   "execution_count": 32,
   "metadata": {},
   "outputs": [
    {
     "name": "stdout",
     "output_type": "stream",
     "text": [
      "1\n",
      "2\n",
      "3\n",
      "4\n",
      "5\n"
     ]
    },
    {
     "data": {
      "text/plain": [
       "['(1,4)', '(2,3)']"
      ]
     },
     "execution_count": 32,
     "metadata": {},
     "output_type": "execute_result"
    }
   ],
   "source": [
    "dllist.print_list()\n",
    "dllist.pairs_with_sum(5)"
   ]
  },
  {
   "cell_type": "code",
   "execution_count": 33,
   "metadata": {},
   "outputs": [
    {
     "name": "stdout",
     "output_type": "stream",
     "text": [
      "1\n",
      "2\n",
      "3\n",
      "4\n",
      "5\n"
     ]
    },
    {
     "data": {
      "text/plain": [
       "[]"
      ]
     },
     "execution_count": 33,
     "metadata": {},
     "output_type": "execute_result"
    }
   ],
   "source": [
    "dllist.print_list()\n",
    "dllist.pairs_with_sum(0)"
   ]
  },
  {
   "cell_type": "code",
   "execution_count": null,
   "metadata": {},
   "outputs": [],
   "source": []
  }
 ],
 "metadata": {
  "kernelspec": {
   "display_name": "Python 3",
   "language": "python",
   "name": "python3"
  },
  "language_info": {
   "codemirror_mode": {
    "name": "ipython",
    "version": 3
   },
   "file_extension": ".py",
   "mimetype": "text/x-python",
   "name": "python",
   "nbconvert_exporter": "python",
   "pygments_lexer": "ipython3",
   "version": "3.6.5"
  }
 },
 "nbformat": 4,
 "nbformat_minor": 2
}
