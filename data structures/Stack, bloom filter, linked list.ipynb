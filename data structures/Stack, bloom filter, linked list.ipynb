{
 "cells": [
  {
   "cell_type": "markdown",
   "metadata": {},
   "source": [
    "## Stack\n",
    "\n",
    "Problem: Use a stack data structure to convert integer values to their corresponding binary representation. \n",
    "\n",
    "Example: 242\n",
    "\n",
    "242 / 2 = 121 --> 0 (bottom of stack)\n",
    "\n",
    "121 / 2 = 60 --> 1\n",
    "\n",
    "60 / 2 = 30 --> 0\n",
    "\n",
    "30 / 2 = 15 --> 0\n",
    "\n",
    "15 / 2 =  7 --> 1\n",
    "\n",
    "7 / 2 = 3 --> 1\n",
    "\n",
    "3 / 2 = 1 --> 1\n",
    "\n",
    "1 / 2 = 0 --> 1 (top of stack)"
   ]
  },
  {
   "cell_type": "code",
   "execution_count": 1,
   "metadata": {},
   "outputs": [],
   "source": [
    "class Stack():\n",
    "    def __init__(self):\n",
    "        self.items = []\n",
    "    \n",
    "    def push(self, items):\n",
    "        self.items.append(items)\n",
    "    \n",
    "    def pop(self):\n",
    "        return self.items.pop()\n",
    "    \n",
    "    def is_empty(self):\n",
    "        return self.items == []\n",
    "    \n",
    "    def peek(self):\n",
    "        if not self.is_empty():\n",
    "            return self.items[-1]\n",
    "    \n",
    "    def get_stack(self):\n",
    "        return self.items"
   ]
  },
  {
   "cell_type": "code",
   "execution_count": 2,
   "metadata": {},
   "outputs": [
    {
     "data": {
      "text/plain": [
       "242"
      ]
     },
     "execution_count": 2,
     "metadata": {},
     "output_type": "execute_result"
    }
   ],
   "source": [
    "int('11110010', 2)"
   ]
  },
  {
   "cell_type": "code",
   "execution_count": 3,
   "metadata": {},
   "outputs": [],
   "source": [
    "def divBy2(dec_num):\n",
    "    s = Stack()\n",
    "    while dec_num > 0:\n",
    "        remainder = dec_num % 2\n",
    "        s.push(remainder)\n",
    "        dec_num = dec_num // 2\n",
    "    \n",
    "    bin_num = ''\n",
    "    while not s.is_empty():\n",
    "        bin_num += str(s.pop())\n",
    "        \n",
    "    return bin_num\n",
    "        "
   ]
  },
  {
   "cell_type": "code",
   "execution_count": 4,
   "metadata": {},
   "outputs": [
    {
     "name": "stdout",
     "output_type": "stream",
     "text": [
      "11110010\n"
     ]
    }
   ],
   "source": [
    "print(divBy2(242))"
   ]
  },
  {
   "cell_type": "markdown",
   "metadata": {},
   "source": [
    "### Bloom Filters\n",
    "\n",
    "the Bloom filter data structure; a data structure that is similar to a hash table but has improved space efficiency at the cost incorporating a probabilistic aspect.\n",
    "\n",
    "We implement a toy example of a Bloom filter in Python and use the idea of a Pokedex (a device for keeping track of the Pokemon we've seen and captured) the primary idea of our toy example. \n",
    "\n",
    "\n",
    "Noncryptographic hash functions (Murmur and FNV)\n"
   ]
  },
  {
   "cell_type": "markdown",
   "metadata": {},
   "source": [
    "## Singly Linked Lists -- Insertion and Deletion"
   ]
  },
  {
   "cell_type": "code",
   "execution_count": 46,
   "metadata": {},
   "outputs": [],
   "source": [
    "class Node:\n",
    "    def __init__(self, data):\n",
    "        self.data = data\n",
    "        self.next = None\n",
    "\n",
    "class LinkedList:\n",
    "    def __init__(self):\n",
    "        #first node in linked list\n",
    "        self.head = None\n",
    "        \n",
    "    def print_list(self):\n",
    "        cur_node = self.head\n",
    "        while cur_node:\n",
    "            print(cur_node.data)\n",
    "            cur_node = cur_node.next\n",
    "    \n",
    "    def append(self, data):\n",
    "        # add element to end of linked list\n",
    "        new_node = Node(data)\n",
    "        # pointing to nothing\n",
    "        if self.head is None:\n",
    "            self.head = new_node\n",
    "            return\n",
    "        \n",
    "        last_node = self.head\n",
    "        while last_node.next:\n",
    "            #move to right until pointing to actual last node\n",
    "            last_node = last_node.next\n",
    "        last_node.next = new_node\n",
    "    \n",
    "    def prepend(self, data):\n",
    "        # add node to beginning to linked list\n",
    "        new_node = Node(data)\n",
    "        new_node.next = self.head\n",
    "        self.head = new_node\n",
    "    \n",
    "    def insert_after_node(self, prev_node, data):\n",
    "        if not prev_node:\n",
    "            print(\"Previous node is not in the list\")\n",
    "            return\n",
    "        new_node = Node(data)\n",
    "        new_node.next = prev_node.next\n",
    "        prev_node.next = new_node\n",
    "    \n",
    "    def delete_node(self, key):\n",
    "        cur_node = self.head\n",
    "        \n",
    "        if cur_node and cur_node.data == key:\n",
    "            self.head = cur_node.next\n",
    "            cur_node = None\n",
    "            return\n",
    "        \n",
    "        prev = None\n",
    "        while cur_node and cur_node.data != key:\n",
    "            prev = cur_node\n",
    "            cur_node = cur_node.next\n",
    "        \n",
    "        if cur_node is None:\n",
    "            return\n",
    "        \n",
    "        prev.next = cur_node.next\n",
    "        cur_node = None\n",
    "    \n",
    "    \n",
    "    def delete_node_at_position(self, pos):\n",
    "        cur_node = self.head\n",
    "        if pos == 0:\n",
    "            self.head = cur_node.next\n",
    "            cur_node = None\n",
    "            return\n",
    "        \n",
    "        prev = None\n",
    "        count = 0\n",
    "        while cur_node and count != pos:\n",
    "            prev = cur_node\n",
    "            cur_node = cur_node.next\n",
    "            count += 1\n",
    "        \n",
    "        if cur_node is None:\n",
    "            print(\"Position greater than list length\")\n",
    "            return\n",
    "        \n",
    "        prev.next = cur_node.next\n",
    "        cur_node = None\n",
    "        \n",
    "    def length_iterative(self):\n",
    "        count = 0\n",
    "        cur_node = self.head\n",
    "        \n",
    "        while cur_node:\n",
    "            count += 1\n",
    "            cur_node = cur_node.next\n",
    "        return count\n",
    "    \n",
    "    def length_recursive(self, node):\n",
    "        #calling self method REQUIRES self\n",
    "        if node is None:\n",
    "            return 0\n",
    "        return 1 + self.length_recursive(node.next)\n",
    "    \n",
    "    def swap_nodes(self, key_1, key_2):\n",
    "        if key_1 == key_2:\n",
    "            return\n",
    "        \n",
    "        prev_1 = None\n",
    "        curr_1 = self.head\n",
    "        \n",
    "        while curr_1 and curr_1.data != key_1:\n",
    "            prev_1 = curr_1\n",
    "            curr_1 = curr_1.next\n",
    "        \n",
    "        prev_2 = None\n",
    "        curr_2 = self.head\n",
    "        \n",
    "        while curr_2 and curr_2.data != key_2:\n",
    "            prev_2 = curr_2\n",
    "            curr_2 = curr_2.next\n",
    "            \n",
    "        if not curr_1 or not curr_2:\n",
    "            return\n",
    "        \n",
    "        if prev_1:\n",
    "            prev_1.next = curr_2\n",
    "        else:\n",
    "            self.head = curr_2\n",
    "            \n",
    "        if prev_2:\n",
    "            prev_2.next = curr_1\n",
    "        else:\n",
    "            self.head = curr_1\n",
    "        \n",
    "        curr_1.next, curr_2.next = curr_2.next, curr_1.next\n",
    "\n",
    "llist = LinkedList()\n",
    "llist.append(\"A\")\n",
    "llist.append(\"B\")\n",
    "llist.append('C')\n",
    "llist.append('D')\n",
    "    "
   ]
  },
  {
   "cell_type": "code",
   "execution_count": 41,
   "metadata": {},
   "outputs": [
    {
     "name": "stdout",
     "output_type": "stream",
     "text": [
      "A\n",
      "B\n",
      "C\n",
      "D\n"
     ]
    }
   ],
   "source": [
    "llist.print_list()"
   ]
  },
  {
   "cell_type": "code",
   "execution_count": 17,
   "metadata": {},
   "outputs": [],
   "source": [
    "llist.prepend('E')"
   ]
  },
  {
   "cell_type": "code",
   "execution_count": 18,
   "metadata": {},
   "outputs": [
    {
     "name": "stdout",
     "output_type": "stream",
     "text": [
      "E\n",
      "A\n",
      "B\n",
      "C\n",
      "D\n"
     ]
    }
   ],
   "source": [
    "llist.print_list()"
   ]
  },
  {
   "cell_type": "code",
   "execution_count": 19,
   "metadata": {},
   "outputs": [],
   "source": [
    "llist.insert_after_node(llist.head.next, \"F\")"
   ]
  },
  {
   "cell_type": "code",
   "execution_count": 20,
   "metadata": {},
   "outputs": [
    {
     "name": "stdout",
     "output_type": "stream",
     "text": [
      "E\n",
      "A\n",
      "F\n",
      "B\n",
      "C\n",
      "D\n"
     ]
    }
   ],
   "source": [
    "llist.print_list()"
   ]
  },
  {
   "cell_type": "code",
   "execution_count": 21,
   "metadata": {},
   "outputs": [],
   "source": [
    "llist.delete_node('B')"
   ]
  },
  {
   "cell_type": "code",
   "execution_count": 22,
   "metadata": {},
   "outputs": [
    {
     "name": "stdout",
     "output_type": "stream",
     "text": [
      "E\n",
      "A\n",
      "F\n",
      "C\n",
      "D\n"
     ]
    }
   ],
   "source": [
    "llist.print_list()"
   ]
  },
  {
   "cell_type": "code",
   "execution_count": 23,
   "metadata": {},
   "outputs": [],
   "source": [
    "llist.delete_node_at_position(2)"
   ]
  },
  {
   "cell_type": "code",
   "execution_count": 24,
   "metadata": {},
   "outputs": [
    {
     "name": "stdout",
     "output_type": "stream",
     "text": [
      "E\n",
      "A\n",
      "C\n",
      "D\n"
     ]
    }
   ],
   "source": [
    "llist.print_list()"
   ]
  },
  {
   "cell_type": "markdown",
   "metadata": {},
   "source": [
    "## Linked List  Length\n",
    "\n",
    "computing the length of a given linked list both iteratively and recursively in Python.\n"
   ]
  },
  {
   "cell_type": "code",
   "execution_count": 25,
   "metadata": {},
   "outputs": [
    {
     "data": {
      "text/plain": [
       "4"
      ]
     },
     "execution_count": 25,
     "metadata": {},
     "output_type": "execute_result"
    }
   ],
   "source": [
    "llist.length_iterative()"
   ]
  },
  {
   "cell_type": "code",
   "execution_count": 26,
   "metadata": {},
   "outputs": [
    {
     "name": "stdout",
     "output_type": "stream",
     "text": [
      "4\n"
     ]
    }
   ],
   "source": [
    "print(llist.length_recursive(llist.head))"
   ]
  },
  {
   "cell_type": "markdown",
   "metadata": {},
   "source": [
    "### Linked List --  Node Swap\n",
    "\n",
    "how to swap two different nodes in a singly linked list. "
   ]
  },
  {
   "cell_type": "code",
   "execution_count": 47,
   "metadata": {},
   "outputs": [],
   "source": [
    "llist.swap_nodes(\"A\", \"C\")"
   ]
  },
  {
   "cell_type": "code",
   "execution_count": 48,
   "metadata": {},
   "outputs": [
    {
     "name": "stdout",
     "output_type": "stream",
     "text": [
      "C\n",
      "B\n",
      "A\n",
      "D\n"
     ]
    }
   ],
   "source": [
    "llist.print_list()"
   ]
  },
  {
   "cell_type": "markdown",
   "metadata": {},
   "source": [
    "### Stack -- reverse a string\n",
    "use of the stack data structure to reverse a string"
   ]
  },
  {
   "cell_type": "code",
   "execution_count": 28,
   "metadata": {},
   "outputs": [
    {
     "name": "stdout",
     "output_type": "stream",
     "text": [
      "olleH\n"
     ]
    }
   ],
   "source": [
    "#Native python implementation\n",
    "input_str = \"Hello\"\n",
    "print(input_str[::-1])"
   ]
  },
  {
   "cell_type": "code",
   "execution_count": 33,
   "metadata": {},
   "outputs": [],
   "source": [
    "def reverseString(stack, input_str):\n",
    "    rev_str = ''\n",
    "    #loop through string and push content onto stack\n",
    "    for i in range(len(input_str)):\n",
    "        stack.push(input_str[i])\n",
    "    # if stack isn't empty, pop content of stack onto string\n",
    "    while not stack.is_empty():\n",
    "        rev_str += stack.pop()\n",
    "        \n",
    "    return rev_str"
   ]
  },
  {
   "cell_type": "code",
   "execution_count": 34,
   "metadata": {},
   "outputs": [],
   "source": [
    "stack = Stack()"
   ]
  },
  {
   "cell_type": "code",
   "execution_count": 35,
   "metadata": {},
   "outputs": [
    {
     "data": {
      "text/plain": [
       "'olleH'"
      ]
     },
     "execution_count": 35,
     "metadata": {},
     "output_type": "execute_result"
    }
   ],
   "source": [
    "reverseString(stack, input_str)"
   ]
  },
  {
   "cell_type": "code",
   "execution_count": null,
   "metadata": {},
   "outputs": [],
   "source": []
  }
 ],
 "metadata": {
  "kernelspec": {
   "display_name": "Python 3",
   "language": "python",
   "name": "python3"
  },
  "language_info": {
   "codemirror_mode": {
    "name": "ipython",
    "version": 3
   },
   "file_extension": ".py",
   "mimetype": "text/x-python",
   "name": "python",
   "nbconvert_exporter": "python",
   "pygments_lexer": "ipython3",
   "version": "3.6.7"
  }
 },
 "nbformat": 4,
 "nbformat_minor": 2
}
