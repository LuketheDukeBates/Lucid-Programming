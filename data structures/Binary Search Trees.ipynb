{
 "cells": [
  {
   "cell_type": "markdown",
   "metadata": {},
   "source": [
    "### Binary Search Trees in Python: Introduction - Insertion and Search\n",
    "\n",
    "We will first cover the general idea of what a binary search tree is and how one may go about inserting data into this structure as well as how one searches for data. Once we cover the general idea, we will move over into the terminal and implement the binary search tree data structure in Python. We will construct two class methods that will implement the search and insertion algorithms. \n",
    "\n",
    "If you are unfamiliar with tree-like data structures, I would encourage you to watch first the series on binary trees. A binary search tree is a type of binary tree. It is important to understand the various terminology used in the context of a tree data structure (root, node, leaves, parent, child, etc.)\n",
    "\n",
    "Entries are ORDERED - allows us to elminate parts of the tree when searching for a value\n",
    "\n",
    "\n",
    "            8\n",
    "          /   \\\n",
    "         3     10\n",
    "        / \\\n",
    "       1   6\n",
    "       \n",
    "         \n",
    "                10 # problem! basically an array. can use AVL tree to solve problem, a self balancing tree\n",
    "               /\n",
    "              8\n",
    "             /\n",
    "            6\n",
    "           /\n",
    "          3\n",
    "         /\n",
    "        1 \n",
    " \n",
    " \n",
    "             8\n",
    "            /  \\\n",
    "           3    10\n",
    "          / \\   /  \\ \n",
    "         1   6  9   11\n",
    "\n",
    "    Space   avg: O(n)     worst: O(n)\n",
    "    Search  avg: O(logn)  worst: O(n)\n",
    "    Insert  avg: O(logn)  worst: O(n)\n",
    "    Delete  avg: O(logn)  worst: O(n)"
   ]
  },
  {
   "cell_type": "code",
   "execution_count": 16,
   "metadata": {},
   "outputs": [
    {
     "data": {
      "text/plain": [
       "True"
      ]
     },
     "execution_count": 16,
     "metadata": {},
     "output_type": "execute_result"
    }
   ],
   "source": [
    "class Node(object):\n",
    "    def __init__(self, data=None):\n",
    "        self.data = data\n",
    "        self.left = None\n",
    "        self.right = None\n",
    "\n",
    "class BST(object):\n",
    "    def __init__(self):\n",
    "        self.root = None\n",
    "        \n",
    "    def insert(self, data):\n",
    "        if self.root is None:\n",
    "            self.root = Node(data)\n",
    "        \n",
    "        else:\n",
    "            #recursive\n",
    "            self._insert(data, self.root)\n",
    "            \n",
    "    def _insert(self, data, cur_node):\n",
    "        if data < cur_node.data:\n",
    "            if cur_node.left is None:\n",
    "                cur_node.left = Node(data)\n",
    "            else:\n",
    "                self._insert(data, cur_node.left)\n",
    "        \n",
    "        elif data > cur_node.data:\n",
    "            if cur_node.right is None:\n",
    "                cur_node.right = Node(data)\n",
    "            else:\n",
    "                self._insert(data, cur_node.right)\n",
    "        \n",
    "        else:\n",
    "            print(\"Value already present in tree.\")\n",
    "    \n",
    "    def find(self, data):\n",
    "        #recursive\n",
    "        if self.root:\n",
    "            #returns boolean\n",
    "            is_found = self._find(data, self.root)\n",
    "            if is_found:\n",
    "                return True\n",
    "            return False\n",
    "        else:\n",
    "            #empty tree\n",
    "            return None\n",
    "    \n",
    "    def _find(self, data, cur_node):\n",
    "        if data > cur_node.data and cur_node.right:\n",
    "            return self._find(data, cur_node.right)\n",
    "        \n",
    "        if data < cur_node.data and cur_node.left:\n",
    "            return self._find(data, cur_node.left)\n",
    "        \n",
    "        if data == cur_node.data:\n",
    "            return True\n",
    "    \n",
    "    def inorder_print_tree(self):\n",
    "        if self.root:\n",
    "            self._inorder_print_tree(self.root)\n",
    "    \n",
    "    def _inorder_print_tree(self, cur_node):\n",
    "        if cur_node:\n",
    "            self._inorder_print_tree(cur_node.left)\n",
    "            print(str(cur_node.data))\n",
    "            self._inorder_print_tree(cur_node.right)\n",
    "            \n",
    "    def is_bst_satisfied(self):\n",
    "        if self.root:\n",
    "            is_sat = self._is_bst_satisfied(self.root, self.root.data)\n",
    "            \n",
    "            if is_sat is None:\n",
    "                return True\n",
    "            return False\n",
    "        \n",
    "        return True\n",
    "    \n",
    "    def _is_bst_satisfied(self, cur_node, data):\n",
    "        if cur_node.left:\n",
    "            if data > cur_node.left.data:\n",
    "                return self._is_bst_satisfied(cur_node.left, cur_node.left.data)\n",
    "            else:\n",
    "                return False\n",
    "            \n",
    "        if cur_node.right:\n",
    "            if data < cur_node.right.data:\n",
    "                return self._is_bst_satisfied(cur_node.right, cur_node.right.data)\n",
    "            else:\n",
    "                return False\n",
    "                \n",
    "        \n",
    "        \n",
    "        \n",
    "bst = BST()\n",
    "bst.insert(4)\n",
    "bst.insert(2)\n",
    "bst.insert(8)\n",
    "bst.insert(5)\n",
    "bst.insert(10)\n",
    "bst.find(4)"
   ]
  },
  {
   "cell_type": "code",
   "execution_count": 13,
   "metadata": {},
   "outputs": [
    {
     "data": {
      "text/plain": [
       "False"
      ]
     },
     "execution_count": 13,
     "metadata": {},
     "output_type": "execute_result"
    }
   ],
   "source": [
    "bst.find(69)"
   ]
  },
  {
   "cell_type": "markdown",
   "metadata": {},
   "source": [
    "## Checking the BST Property\n",
    "\n",
    "solving the problem of determining whether or not a given tree we are given as input abides by the so-called binary search tree (BST) property. \n",
    "\n",
    "The BST property states that every node on the right subtree has to be larger than the current node and every node on the left subtree has to be smaller than the current node. In this video we go over the BST property in more detail on a set of slides to ensure the concept is clear. Once we do so, we will progress to the terminal and write a function that determines whether a given tree satisfies the BST property. \n",
    "\n",
    "\n",
    "Use inorder traversal!"
   ]
  },
  {
   "cell_type": "code",
   "execution_count": 17,
   "metadata": {},
   "outputs": [
    {
     "name": "stdout",
     "output_type": "stream",
     "text": [
      "1\n",
      "3\n",
      "4\n",
      "6\n",
      "8\n",
      "9\n",
      "10\n",
      "11\n"
     ]
    },
    {
     "data": {
      "text/plain": [
       "True"
      ]
     },
     "execution_count": 17,
     "metadata": {},
     "output_type": "execute_result"
    }
   ],
   "source": [
    "bst = BST()\n",
    "bst.insert(8)\n",
    "bst.insert(3)\n",
    "bst.insert(10)\n",
    "bst.insert(1)\n",
    "bst.insert(6)\n",
    "bst.insert(4)\n",
    "bst.insert(9)\n",
    "bst.insert(11)\n",
    "bst.inorder_print_tree()\n",
    "bst.is_bst_satisfied()"
   ]
  },
  {
   "cell_type": "markdown",
   "metadata": {},
   "source": [
    "#### Tree that fails BST poperty\n",
    "        1\n",
    "       / \\\n",
    "      2   3\n",
    "    "
   ]
  },
  {
   "cell_type": "code",
   "execution_count": 18,
   "metadata": {},
   "outputs": [
    {
     "name": "stdout",
     "output_type": "stream",
     "text": [
      "2\n",
      "1\n",
      "3\n"
     ]
    },
    {
     "data": {
      "text/plain": [
       "False"
      ]
     },
     "execution_count": 18,
     "metadata": {},
     "output_type": "execute_result"
    }
   ],
   "source": [
    "tree = BST()\n",
    "tree.root = Node(1)\n",
    "tree.root.left = Node(2)\n",
    "tree.root.right = Node(3)\n",
    "tree.inorder_print_tree()\n",
    "tree.is_bst_satisfied()"
   ]
  },
  {
   "cell_type": "code",
   "execution_count": null,
   "metadata": {},
   "outputs": [],
   "source": []
  }
 ],
 "metadata": {
  "kernelspec": {
   "display_name": "Python 3",
   "language": "python",
   "name": "python3"
  },
  "language_info": {
   "codemirror_mode": {
    "name": "ipython",
    "version": 3
   },
   "file_extension": ".py",
   "mimetype": "text/x-python",
   "name": "python",
   "nbconvert_exporter": "python",
   "pygments_lexer": "ipython3",
   "version": "3.6.7"
  }
 },
 "nbformat": 4,
 "nbformat_minor": 2
}
