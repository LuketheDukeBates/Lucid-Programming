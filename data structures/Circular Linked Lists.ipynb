{
 "cells": [
  {
   "cell_type": "markdown",
   "metadata": {},
   "source": [
    "### Circular Linked Lists -- Append and Prepend\n",
    "the circular linked list data structure. We also look at how to append (add to back) and prepend (add to front)"
   ]
  },
  {
   "cell_type": "code",
   "execution_count": 44,
   "metadata": {},
   "outputs": [
    {
     "name": "stdout",
     "output_type": "stream",
     "text": [
      "CLList\n",
      "1\n",
      "2\n",
      "3\n",
      "4\n",
      "\n",
      "LList\n",
      "1\n",
      "2\n",
      "3\n",
      "4\n",
      "True\n",
      "False\n"
     ]
    }
   ],
   "source": [
    "class Node:\n",
    "    def __init__(self, data):\n",
    "        self.data = data\n",
    "        self.next = None\n",
    "\n",
    "class LinkedList:\n",
    "    def __init__(self):\n",
    "        self.head = None\n",
    "\n",
    "    def print_list(self):\n",
    "        cur_node = self.head\n",
    "        while cur_node:\n",
    "            print(cur_node.data)\n",
    "            cur_node = cur_node.next\n",
    "\n",
    "    def append(self, data):\n",
    "        new_node = Node(data)\n",
    "\n",
    "        if self.head is None:\n",
    "            self.head = new_node\n",
    "            return\n",
    "\n",
    "        last_node = self.head\n",
    "        while last_node.next:\n",
    "            last_node = last_node.next\n",
    "        last_node.next = new_node\n",
    "    \n",
    "    \n",
    "class CircularLinkedList:\n",
    "    def __init__(self):\n",
    "        self.head = None\n",
    "    \n",
    "    def prepend(self, data):\n",
    "        new_node = Node(data)\n",
    "        cur = self.head\n",
    "        new_node.next = self.head\n",
    "        \n",
    "        #new element, A --> A\n",
    "        if not self.head:\n",
    "            new_node.next = new_node\n",
    "        else:\n",
    "            while cur.next != self.head:\n",
    "                cur = cur.next\n",
    "            cur.next = new_node\n",
    "        self.head = new_node\n",
    "            \n",
    "    \n",
    "    def append(self, data):\n",
    "        if not self.head:\n",
    "            self.head = Node(data)\n",
    "            self.head.next = self.head\n",
    "        else:\n",
    "            new_node = Node(data)\n",
    "            cur = self.head\n",
    "            while cur.next != self.head:\n",
    "                cur = cur.next\n",
    "            cur.next = new_node\n",
    "            new_node.next = self.head\n",
    "        \n",
    "    \n",
    "    def print_list(self):\n",
    "        cur = self.head\n",
    "        \n",
    "        while cur:\n",
    "            print(cur.data)\n",
    "            cur = cur.next\n",
    "            if cur == self.head:\n",
    "                break\n",
    "    # A -> B -> C -> D -> ...\n",
    "    #remove key = 'B'\n",
    "    # A -> C -> D -> ...\n",
    "    \n",
    "    def remove_key(self, key):\n",
    "        if self.head.data == key:\n",
    "            cur = self.head\n",
    "            while cur.next != self.head:\n",
    "                cur = cur.next\n",
    "            cur.next = self.head.next\n",
    "            self.head = self.head.next\n",
    "        else:\n",
    "            cur = self.head\n",
    "            prev = None\n",
    "            while cur.next != self.head:\n",
    "                prev = cur\n",
    "                cur = cur.next\n",
    "                if cur.data == key:\n",
    "                    prev.next = cur.next\n",
    "                    cur = cur.next\n",
    "                    \n",
    "    def remove_node(self, node):\n",
    "        if self.head == node:\n",
    "            cur = self.head\n",
    "            while cur.next != self.head:\n",
    "                cur = cur.next\n",
    "            cur.next = self.head.next\n",
    "            self.head = self.head.next\n",
    "        else:\n",
    "            cur = self.head\n",
    "            prev = None\n",
    "            while cur.next != self.head:\n",
    "                prev = cur\n",
    "                cur = cur.next\n",
    "                if cur == node:\n",
    "                    prev.next = cur.next\n",
    "                    cur = cur.next\n",
    "    \n",
    "    \n",
    "    def __len__(self):\n",
    "        # __ __ overrides built-in python functions\n",
    "        cur = self.head\n",
    "        count = 0\n",
    "        while cur:\n",
    "            count += 1\n",
    "            cur = cur.next\n",
    "            if cur == self.head:\n",
    "                break\n",
    "        return count\n",
    "    \n",
    "    # A -> B -> C -> D -> ...\n",
    "    # A -> B -> ... and  C -> D -> ...\n",
    "    def split_list(self):\n",
    "        size = len(self)\n",
    "        \n",
    "        if size == 0:\n",
    "            return None\n",
    "        if size == 1:\n",
    "            return self.head\n",
    "        \n",
    "        mid = size // 2\n",
    "        count = 0\n",
    "        prev = None\n",
    "        cur = self.head\n",
    "        \n",
    "        #list 1\n",
    "        while cur and count < mid:\n",
    "            count += 1\n",
    "            prev = cur\n",
    "            cur = cur.next\n",
    "        prev.next = self.head\n",
    "        \n",
    "        #list 2\n",
    "        split_cllist = CircularLinkedList()\n",
    "        while cur.next != self.head:\n",
    "            split_cllist.append(cur.data)\n",
    "            cur = cur.next\n",
    "        split_cllist.append(cur.data)\n",
    "        \n",
    "        self.print_list()\n",
    "        print('\\n')\n",
    "        split_cllist.print_list()\n",
    "    \n",
    "    def josephus_circle(self, step):\n",
    "        cur = self.head\n",
    "        while len(self) > 1:\n",
    "            count = 1\n",
    "            while count != step:\n",
    "                cur = cur.next\n",
    "                count += 1\n",
    "            print(\"REMOVED: \" + str(cur.data))\n",
    "            self.remove_node(cur)\n",
    "            cur = cur.next\n",
    "        \n",
    "    def is_circular_linked_list(self, input_list):\n",
    "        cur = input_list.head\n",
    "        while cur.next:\n",
    "            cur = cur.next\n",
    "            if cur.next == input_list.head:\n",
    "                return True\n",
    "        return False\n",
    "        \n",
    "    \n",
    "cllist = CircularLinkedList()\n",
    "cllist.append(1)\n",
    "cllist.append(2)\n",
    "cllist.append(3)\n",
    "cllist.append(4)\n",
    "print('CLList')\n",
    "cllist.print_list()\n",
    "print()\n",
    "print('LList')\n",
    "llist = LinkedList()\n",
    "llist.append(1)\n",
    "llist.append(2)\n",
    "llist.append(3)\n",
    "llist.append(4)\n",
    "llist.print_list()\n",
    "print(cllist.is_circular_linked_list(cllist))\n",
    "print(cllist.is_circular_linked_list(llist))"
   ]
  },
  {
   "cell_type": "code",
   "execution_count": 27,
   "metadata": {},
   "outputs": [
    {
     "name": "stdout",
     "output_type": "stream",
     "text": [
      "A\n",
      "B\n",
      "C\n",
      "D\n",
      "4\n"
     ]
    }
   ],
   "source": [
    "cllist = CircularLinkedList()\n",
    "cllist.append('C')\n",
    "cllist.append('D')\n",
    "cllist.prepend('B')\n",
    "cllist.prepend('A')\n",
    "cllist.print_list()\n",
    "print(len(cllist))"
   ]
  },
  {
   "cell_type": "markdown",
   "metadata": {},
   "source": [
    "## Circular Linked Lists -- Remove Node\n",
    "how to remove nodes in a circular linked list"
   ]
  },
  {
   "cell_type": "code",
   "execution_count": 16,
   "metadata": {},
   "outputs": [
    {
     "name": "stdout",
     "output_type": "stream",
     "text": [
      "A\n"
     ]
    }
   ],
   "source": [
    "cllist.remove(\"B\")\n",
    "cllist.remove(\"C\")\n",
    "cllist.remove(\"D\")\n",
    "cllist.remove(\"E\")\n",
    "cllist.print_list()"
   ]
  },
  {
   "cell_type": "markdown",
   "metadata": {},
   "source": [
    "## Circular Linked Lists -- Split List\n",
    "how to split one circular linked list into two separate circular linked lists\n"
   ]
  },
  {
   "cell_type": "code",
   "execution_count": 22,
   "metadata": {},
   "outputs": [
    {
     "name": "stdout",
     "output_type": "stream",
     "text": [
      "A\n",
      "B\n",
      "\n",
      "\n",
      "C\n",
      "D\n"
     ]
    }
   ],
   "source": [
    "cllist.split_list()"
   ]
  },
  {
   "cell_type": "markdown",
   "metadata": {},
   "source": [
    "### Circular Linked Lists -- Josephus Problem\n",
    "we investigate how to solve the so-called \"Josephus Problem\" using the circular linked list data structure.\n"
   ]
  },
  {
   "cell_type": "code",
   "execution_count": 37,
   "metadata": {},
   "outputs": [
    {
     "name": "stdout",
     "output_type": "stream",
     "text": [
      "1\n"
     ]
    }
   ],
   "source": [
    "cllist.josephus_circle(2)\n",
    "\n",
    "cllist.print_list()"
   ]
  },
  {
   "cell_type": "markdown",
   "metadata": {},
   "source": [
    "### Circular Linked Lists -- Is Circular Linked List\n",
    "how to determine whether a given linked list is either a singly linked list or a circular linked list."
   ]
  },
  {
   "cell_type": "code",
   "execution_count": null,
   "metadata": {},
   "outputs": [],
   "source": []
  }
 ],
 "metadata": {
  "kernelspec": {
   "display_name": "Python 3",
   "language": "python",
   "name": "python3"
  },
  "language_info": {
   "codemirror_mode": {
    "name": "ipython",
    "version": 3
   },
   "file_extension": ".py",
   "mimetype": "text/x-python",
   "name": "python",
   "nbconvert_exporter": "python",
   "pygments_lexer": "ipython3",
   "version": "3.6.5"
  }
 },
 "nbformat": 4,
 "nbformat_minor": 2
}
