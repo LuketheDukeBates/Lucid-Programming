{
 "cells": [
  {
   "cell_type": "markdown",
   "metadata": {},
   "source": [
    "### Find Closest Number\n",
    "given a sorted array and a target number. Our goal is to find a number in the array that is closest to the target number. We will be making use of binary search to solve this problem.\n",
    "\n",
    "The array may contain duplicate values and negative numbers.\n",
    "\n",
    "Example 1:\n",
    "\n",
    "    Input : arr[] = {1, 2, 4, 5, 6, 6, 8, 9}\n",
    "    Target number = 11\n",
    "    Output : 9\n",
    "    9 is closest to 11 in given array\n",
    "\n",
    "Example 2:\n",
    "\n",
    "    Input :arr[] = {2, 5, 6, 7, 8, 8, 9};\n",
    "    Target number = 4\n",
    "    Output : 5\n",
    "\n",
    "    midpoint: 7\n",
    "    right of midpoint: 8 - 4 = 4\n",
    "    left of midpoint: 6 - 4  = 2\n",
    "\n",
    "    midpoint: 5\n",
    "    right of midpoint: 6 - 4 = 2\n",
    "    left of midpoint: |2 - 4| = 2\n",
    "    only interested in absolute value\n",
    "\n",
    "    midpoint: 2\n",
    "    right of midpoint: 5 - 4 = 1\n",
    "    left of midpoint: null\n",
    "\n",
    "    return 5"
   ]
  },
  {
   "cell_type": "code",
   "execution_count": 1,
   "metadata": {},
   "outputs": [],
   "source": [
    "A1 = [1, 2, 4, 5, 6, 6, 8, 9]\n",
    "target1 = 11\n",
    "A2 = [2, 5, 6, 7, 8, 8, 9]\n",
    "target2 = 4"
   ]
  },
  {
   "cell_type": "code",
   "execution_count": 2,
   "metadata": {},
   "outputs": [],
   "source": [
    "#Time complexity: O(logn)\n",
    "#Space complexity: O(1)\n",
    "def findClosestNum(A, target):\n",
    "    min_diff = float(\"inf\")\n",
    "    low = 0\n",
    "    high = len(A) - 1\n",
    "    closest_num = None\n",
    "    #edge cases for empty list, when list contains only 1 element\n",
    "    if len(A) == 0:\n",
    "        return None\n",
    "    if len(A) == 1:\n",
    "        return A[0]\n",
    "    \n",
    "    while low <= high:\n",
    "        mid = (low + high) // 2\n",
    "        \n",
    "        #ensure we don't read beyond bounds of list\n",
    "        #obtain left and right difference values\n",
    "        if mid + 1 < len(A):\n",
    "            min_diff_right = abs(A[mid+1] - target)\n",
    "        if mid > 0:\n",
    "            min_diff_left = abs(A[mid-1] - target)\n",
    "        \n",
    "        #Check if absolute value between left and right elements\n",
    "        # are smaller than any seen prior\n",
    "        if min_diff_left < min_diff:\n",
    "            min_diff = min_diff_left\n",
    "            closest_num = A[mid-1]\n",
    "        \n",
    "        if min_diff_right < min_diff:\n",
    "            min_diff = min_diff_right\n",
    "            closest_num = A[mid+1]\n",
    "        \n",
    "        #Move midpoint via binary search\n",
    "        if A[mid] < target:\n",
    "            low = mid + 1\n",
    "        elif A[mid] > target:\n",
    "            high = mid - 1\n",
    "        else: # if element is target\n",
    "            return A[mid]\n",
    "    return closest_num"
   ]
  },
  {
   "cell_type": "code",
   "execution_count": 3,
   "metadata": {},
   "outputs": [
    {
     "data": {
      "text/plain": [
       "9"
      ]
     },
     "execution_count": 3,
     "metadata": {},
     "output_type": "execute_result"
    }
   ],
   "source": [
    "findClosestNum(A1, target1)"
   ]
  },
  {
   "cell_type": "code",
   "execution_count": 4,
   "metadata": {},
   "outputs": [
    {
     "data": {
      "text/plain": [
       "5"
      ]
     },
     "execution_count": 4,
     "metadata": {},
     "output_type": "execute_result"
    }
   ],
   "source": [
    "findClosestNum(A2, target2)"
   ]
  },
  {
   "cell_type": "markdown",
   "metadata": {},
   "source": [
    "### Find Fixed Point\n",
    "\n",
    "Given an array of n distinct integers sorted in ascending order, write a function that returns a \"fixed point\" in the array. If there is not a \n",
    "fixed point return \"None\".\n",
    "\n",
    "A fixed point in an array \"A\" is an index \"i\" such that A[i] is equal to \"i\"."
   ]
  },
  {
   "cell_type": "code",
   "execution_count": 9,
   "metadata": {},
   "outputs": [],
   "source": [
    "#fixed point is 3\n",
    "A1 = [-10, -5, 0, 3, 7]\n",
    "#fixed point is 0\n",
    "A2 = [0, 2, 5, 8, 17]\n",
    "#no fixed point example\n",
    "A3 = [-10, -5, 3, 4, 7, 9]"
   ]
  },
  {
   "cell_type": "code",
   "execution_count": 6,
   "metadata": {},
   "outputs": [],
   "source": [
    "#naive approach\n",
    "#Time Complexity: O(n)\n",
    "#Space Complexity: O(1)\n",
    "def linearFindFixedPoint(input_lst):\n",
    "    for idx, num in enumerate(input_lst):\n",
    "        if idx == num:\n",
    "            return idx\n",
    "    return None"
   ]
  },
  {
   "cell_type": "code",
   "execution_count": 8,
   "metadata": {},
   "outputs": [
    {
     "data": {
      "text/plain": [
       "3"
      ]
     },
     "execution_count": 8,
     "metadata": {},
     "output_type": "execute_result"
    }
   ],
   "source": [
    "linearFindFixedPoint(A1)"
   ]
  },
  {
   "cell_type": "code",
   "execution_count": 10,
   "metadata": {},
   "outputs": [
    {
     "data": {
      "text/plain": [
       "0"
      ]
     },
     "execution_count": 10,
     "metadata": {},
     "output_type": "execute_result"
    }
   ],
   "source": [
    "linearFindFixedPoint(A2)"
   ]
  },
  {
   "cell_type": "code",
   "execution_count": 12,
   "metadata": {},
   "outputs": [
    {
     "name": "stdout",
     "output_type": "stream",
     "text": [
      "None\n"
     ]
    }
   ],
   "source": [
    "print(linearFindFixedPoint(A3))"
   ]
  },
  {
   "cell_type": "code",
   "execution_count": 7,
   "metadata": {},
   "outputs": [],
   "source": [
    "#Time Complexity: O(logn)\n",
    "#Space Complexity: O(1)\n",
    "def findFixedPoint(input_lst):\n",
    "    low = 0\n",
    "    high = len(input_lst) - 1\n",
    "    \n",
    "    while low <= high:\n",
    "        mid = (low + high) // 2\n",
    "        \n",
    "        if input_lst[mid] < mid:\n",
    "            low = mid + 1\n",
    "        \n",
    "        elif input_lst[mid] > mid:\n",
    "            high = mid - 1\n",
    "        \n",
    "        else:\n",
    "            return input_lst[mid]\n",
    "    \n",
    "    return None"
   ]
  },
  {
   "cell_type": "code",
   "execution_count": 13,
   "metadata": {},
   "outputs": [
    {
     "data": {
      "text/plain": [
       "3"
      ]
     },
     "execution_count": 13,
     "metadata": {},
     "output_type": "execute_result"
    }
   ],
   "source": [
    "findFixedPoint(A1)"
   ]
  },
  {
   "cell_type": "code",
   "execution_count": 14,
   "metadata": {},
   "outputs": [
    {
     "data": {
      "text/plain": [
       "0"
      ]
     },
     "execution_count": 14,
     "metadata": {},
     "output_type": "execute_result"
    }
   ],
   "source": [
    "findFixedPoint(A2)"
   ]
  },
  {
   "cell_type": "code",
   "execution_count": 16,
   "metadata": {},
   "outputs": [
    {
     "name": "stdout",
     "output_type": "stream",
     "text": [
      "None\n"
     ]
    }
   ],
   "source": [
    "print(findFixedPoint(A3))"
   ]
  },
  {
   "cell_type": "markdown",
   "metadata": {},
   "source": [
    "### Find Bitonic Peak\n",
    "\n",
    "bitonically sorted, an array that starts off with increasing terms and then concludes with decreasing terms. In any such sequence, there is a \"peak\" element, that is, the element in the sequence that is the largest element. We will be writing a problem to help us in finding the peak element of a bitonic sequence. \n",
    "\n",
    "    1, 2, 3, 4, 5, 4, 3, 2, 1"
   ]
  },
  {
   "cell_type": "code",
   "execution_count": 26,
   "metadata": {},
   "outputs": [],
   "source": [
    "#Not bitonic\n",
    "A0 = [4, 5]\n",
    "#peak is 5\n",
    "A1 = [1, 2, 3, 4, 5, 4, 3, 2, 1]\n",
    "#peak is 4\n",
    "A2 = [1, 2, 3, 4, 1]\n",
    "#peak is 6\n",
    "A3 = [1, 6, 5, 4, 3, 2, 1]"
   ]
  },
  {
   "cell_type": "code",
   "execution_count": 33,
   "metadata": {},
   "outputs": [],
   "source": [
    "#Time Complexity: O(n)\n",
    "#Space Complexity: O(1)\n",
    "def linearFindHighestNumber(input_lst):\n",
    "    if len(input_lst) < 2:\n",
    "        return \"List is not Bitonic.\"\n",
    "    high = 0\n",
    "    for num in input_lst:\n",
    "        if num > high:\n",
    "            high = num\n",
    "    return high"
   ]
  },
  {
   "cell_type": "code",
   "execution_count": 31,
   "metadata": {},
   "outputs": [
    {
     "data": {
      "text/plain": [
       "'List is not Bitonic.'"
      ]
     },
     "execution_count": 31,
     "metadata": {},
     "output_type": "execute_result"
    }
   ],
   "source": [
    "linearFindHighestNumber(A0)"
   ]
  },
  {
   "cell_type": "code",
   "execution_count": 23,
   "metadata": {},
   "outputs": [
    {
     "data": {
      "text/plain": [
       "5"
      ]
     },
     "execution_count": 23,
     "metadata": {},
     "output_type": "execute_result"
    }
   ],
   "source": [
    "linearFindHighestNumber(A1)"
   ]
  },
  {
   "cell_type": "code",
   "execution_count": 24,
   "metadata": {},
   "outputs": [
    {
     "data": {
      "text/plain": [
       "4"
      ]
     },
     "execution_count": 24,
     "metadata": {},
     "output_type": "execute_result"
    }
   ],
   "source": [
    "linearFindHighestNumber(A2)"
   ]
  },
  {
   "cell_type": "code",
   "execution_count": 25,
   "metadata": {},
   "outputs": [
    {
     "data": {
      "text/plain": [
       "6"
      ]
     },
     "execution_count": 25,
     "metadata": {},
     "output_type": "execute_result"
    }
   ],
   "source": [
    "linearFindHighestNumber(A3)"
   ]
  },
  {
   "cell_type": "code",
   "execution_count": 34,
   "metadata": {},
   "outputs": [],
   "source": [
    "#Time Complexity: O(logn)\n",
    "#Space Complexity: O(1)\n",
    "def findHighestNumber(input_lst):\n",
    "    if len(input_lst) < 3:\n",
    "        return \"List is not Bitonic.\"\n",
    "    \n",
    "    low = 0\n",
    "    high = len(input_lst) - 1\n",
    "    \n",
    "    \n",
    "    while low <= high:\n",
    "        mid = (low + high) // 2\n",
    "        #avoid reading beyond range of array\n",
    "        mid_left = input_lst[mid-1] if mid - 1 > 0 else float(\"-inf\")\n",
    "        mid_right = input_lst[mid+1] if mid + 1 < len(input_lst) else float(\"inf\")\n",
    "        \n",
    "        if mid_left < input_lst[mid] and mid_right > input_lst[mid]:\n",
    "            low = mid + 1\n",
    "        \n",
    "        elif mid_left > input_lst[mid] and mid_right < input_lst[mid]:\n",
    "            high = mid - 1\n",
    "        \n",
    "        elif mid_left < input_lst[mid] and mid_right < input_lst[mid]:\n",
    "            #found peak\n",
    "            return input_lst[mid]"
   ]
  },
  {
   "cell_type": "code",
   "execution_count": 35,
   "metadata": {},
   "outputs": [
    {
     "data": {
      "text/plain": [
       "'List is not Bitonic.'"
      ]
     },
     "execution_count": 35,
     "metadata": {},
     "output_type": "execute_result"
    }
   ],
   "source": [
    "findHighestNumber(A0)"
   ]
  },
  {
   "cell_type": "code",
   "execution_count": 36,
   "metadata": {},
   "outputs": [
    {
     "data": {
      "text/plain": [
       "5"
      ]
     },
     "execution_count": 36,
     "metadata": {},
     "output_type": "execute_result"
    }
   ],
   "source": [
    "findHighestNumber(A1)"
   ]
  },
  {
   "cell_type": "code",
   "execution_count": 37,
   "metadata": {},
   "outputs": [
    {
     "data": {
      "text/plain": [
       "4"
      ]
     },
     "execution_count": 37,
     "metadata": {},
     "output_type": "execute_result"
    }
   ],
   "source": [
    "findHighestNumber(A2)"
   ]
  },
  {
   "cell_type": "code",
   "execution_count": 38,
   "metadata": {},
   "outputs": [
    {
     "data": {
      "text/plain": [
       "6"
      ]
     },
     "execution_count": 38,
     "metadata": {},
     "output_type": "execute_result"
    }
   ],
   "source": [
    "findHighestNumber(A3)"
   ]
  },
  {
   "cell_type": "markdown",
   "metadata": {},
   "source": [
    "### Find First Entry in List with Duplicates\n",
    "\n",
    "https://www.youtube.com/watch?v=mGaamvgPqpw&list=PL5tcWHG-UPH1K7oTJgIbWy6rCMc8-8Lfm&index=18\n",
    "\n",
    "REWATCH @7:00\n",
    "\n",
    "writing a function that takes an array of sorted integers and a key and returns the index of the first occurrence of that key from the array. \n",
    "\n",
    "For example, for the array:\n",
    "        [-14, -10, 2, 108, 108, 243, 285, 285, 285, 401]\n",
    "\n",
    "with target = 108, the algorithm would return 3, as the first occurrence of 108 in the above array is located at index 3. \n"
   ]
  },
  {
   "cell_type": "code",
   "execution_count": 39,
   "metadata": {},
   "outputs": [],
   "source": [
    "A =  [-14, -10, 2, 108, 108, 243, 285, 285, 285, 401]\n",
    "target = 108"
   ]
  },
  {
   "cell_type": "code",
   "execution_count": 40,
   "metadata": {},
   "outputs": [],
   "source": [
    "def linearFindFirstEntry(input_array, target):\n",
    "    for idx, num in enumerate(input_array):\n",
    "        if num == target:\n",
    "            return idx\n",
    "    \n",
    "    return \"No duplicates found.\""
   ]
  },
  {
   "cell_type": "code",
   "execution_count": 41,
   "metadata": {},
   "outputs": [
    {
     "data": {
      "text/plain": [
       "3"
      ]
     },
     "execution_count": 41,
     "metadata": {},
     "output_type": "execute_result"
    }
   ],
   "source": [
    "linearFindFirstEntry(A, target)"
   ]
  },
  {
   "cell_type": "code",
   "execution_count": 42,
   "metadata": {},
   "outputs": [],
   "source": [
    "def findFirstEntry(input_array, target):\n",
    "    low = 0\n",
    "    high = len(input_array) - 1\n",
    "    \n",
    "    while low <= high:\n",
    "        mid = (low + high) // 2\n",
    "        \n",
    "        if input_array[mid] < target:\n",
    "            low = mid + 1\n",
    "        elif input_array[mid] > target:\n",
    "            high = mid - 1\n",
    "        \n",
    "        else:\n",
    "            if mid - 1 < 0:\n",
    "                return mid\n",
    "            if input_array[mid - 1] != target:\n",
    "                return mid\n",
    "            high = mid - 1\n",
    "    return None"
   ]
  },
  {
   "cell_type": "code",
   "execution_count": 44,
   "metadata": {},
   "outputs": [
    {
     "data": {
      "text/plain": [
       "3"
      ]
     },
     "execution_count": 44,
     "metadata": {},
     "output_type": "execute_result"
    }
   ],
   "source": [
    "findFirstEntry(A, target)"
   ]
  },
  {
   "cell_type": "code",
   "execution_count": 45,
   "metadata": {},
   "outputs": [
    {
     "data": {
      "text/plain": [
       "6"
      ]
     },
     "execution_count": 45,
     "metadata": {},
     "output_type": "execute_result"
    }
   ],
   "source": [
    "findFirstEntry(A, 285)"
   ]
  },
  {
   "cell_type": "code",
   "execution_count": 47,
   "metadata": {},
   "outputs": [
    {
     "name": "stdout",
     "output_type": "stream",
     "text": [
      "None\n"
     ]
    }
   ],
   "source": [
    "print(findFirstEntry(A, 500))"
   ]
  },
  {
   "cell_type": "markdown",
   "metadata": {},
   "source": [
    "### Python's Bisect Method\n",
    " function that takes an array of sorted integers and a key and returns the index of the first occurrence of that key from the array. \n",
    "\n",
    "For example, for the array:\n",
    "[-14, -10, 2, 108, 108, 243, 285, 285, 285, 401]\n",
    "\n",
    "with target = 108, the algorithm would return 3, as the first occurrence of 108 in the above array is located at index 3. \n"
   ]
  },
  {
   "cell_type": "code",
   "execution_count": 49,
   "metadata": {},
   "outputs": [
    {
     "name": "stdout",
     "output_type": "stream",
     "text": [
      "1\n",
      "6\n",
      "2\n",
      "9\n",
      "2\n",
      "9\n",
      "[-14, -10, 2, 108, 108, 243, 285, 285, 285, 401]\n",
      "[-14, -10, 2, 108, 108, 108, 243, 285, 285, 285, 401]\n",
      "[-14, -10, 2, 108, 108, 108, 108, 243, 285, 285, 285, 401]\n"
     ]
    }
   ],
   "source": [
    "\"\"\"\n",
    "Bisect:\n",
    "    -\"Built-in\" binary search method in Python.\n",
    "    -Can be used to search for an element in a sorted list.\n",
    "\"\"\"\n",
    "\n",
    "# Import allows us to make use of the bisect module.\n",
    "import bisect\n",
    "\n",
    "# This sorted list will be used throughout this video\n",
    "# to showcase the functionality of the \"bisect\" method.\n",
    "A = [-14, -10, 2, 108, 108, 243, 285, 285, 285, 401]\n",
    "\n",
    "# The bisect_left function finds index of the target element.\n",
    "# In the event where there are duplicate entries satisfying the target\n",
    "# element, the bisect_left function returns the left-most occurrence.\n",
    "\n",
    "# -10 is at index 1\n",
    "print(bisect.bisect_left(A, -10))\n",
    "\n",
    "# First occurrence of 285 is at index 6\n",
    "print(bisect.bisect_left(A, 285))\n",
    "\n",
    "# The bisect_right function returns the insertion point which comes after,\n",
    "# or to the right of, any existing entries in the list.\n",
    "\n",
    "# Index position to right of -10 is 2.\n",
    "print(bisect.bisect_right(A, -10)) \n",
    "\n",
    "# Index position after last occurrence of 285 is 9.\n",
    "print(bisect.bisect_right(A, 285))\n",
    "\n",
    "# There is also just a regular default \"bisect\" function. This function\n",
    "# is equivalent to \"bisect_right\":\n",
    "\n",
    "# Index position to right of -10 is 2. (Same as bisect_right)\n",
    "print(bisect.bisect(A, -10)) \n",
    "\n",
    "# Index position after last occurrence of 285 is 9. (Same as bisect_right).\n",
    "print(bisect.bisect(A, 285))\n",
    "\n",
    "# Given that the list A is sorted, it is possible to insert elements into\n",
    "# A such that the list remains sorted. Functions \"insort_left\" and \n",
    "# \"insort_right\" behave in a similar way to \"bisect_left\" and \"bisect_right\",\n",
    "# only the insort functions insert at the index positions.\n",
    "print(A)\n",
    "bisect.insort_left(A, 108)\n",
    "print(A)\n",
    "\n",
    "bisect.insort_right(A, 108)\n",
    "print(A)"
   ]
  },
  {
   "cell_type": "markdown",
   "metadata": {},
   "source": [
    "###  Integer Square Root\n",
    "\n",
    "computes the integer square root of a given number as input without using any built-in square root function.\n",
    "\n",
    "Specifically, write a function that takes a non-negative integer and returns the largest integer whose square is less than or equal to\n",
    "the integer given:\n",
    "\n",
    "Example:\n",
    "\n",
    "Assume input is integer 300.\n",
    "    \n",
    "Then the expected output of the function should be 17 since 17 squared is 289 which is strictly less than 300. Note that 18 squared is 324 which is strictly greater than 300, so the number 17 is the correct response.\n",
    "\n",
    "k = 12\n",
    "\n",
    "1^2 = 1\n",
    "2^2 = 4\n",
    "3^2 = 9\n",
    "4^2 = 16\n",
    "5^2 = 25\n",
    "6^2 = 36\n",
    "\n",
    "O(k)\n",
    "\n",
    "1,. 6. , k = 12\n",
    "\n",
    "6^2 = 36\n",
    "\n",
    "now consider  1 - 5\n",
    "\n"
   ]
  },
  {
   "cell_type": "code",
   "execution_count": 56,
   "metadata": {},
   "outputs": [],
   "source": [
    "k = 12"
   ]
  },
  {
   "cell_type": "code",
   "execution_count": 70,
   "metadata": {},
   "outputs": [],
   "source": [
    "def integerSquareRoot(k):\n",
    "    low = 0\n",
    "    high = k\n",
    "    \n",
    "    while low <= high:\n",
    "        mid = (low + high) // 2\n",
    "        mid_square = mid * mid\n",
    "        \n",
    "        if mid_square <= k:\n",
    "            low = mid + 1\n",
    "        else:\n",
    "            high = mid - 1\n",
    "            \n",
    "    return low-1"
   ]
  },
  {
   "cell_type": "code",
   "execution_count": 71,
   "metadata": {},
   "outputs": [
    {
     "data": {
      "text/plain": [
       "3"
      ]
     },
     "execution_count": 71,
     "metadata": {},
     "output_type": "execute_result"
    }
   ],
   "source": [
    "integerSquareRoot(12)"
   ]
  },
  {
   "cell_type": "code",
   "execution_count": 72,
   "metadata": {},
   "outputs": [
    {
     "data": {
      "text/plain": [
       "17"
      ]
     },
     "execution_count": 72,
     "metadata": {},
     "output_type": "execute_result"
    }
   ],
   "source": [
    "integerSquareRoot(300)"
   ]
  },
  {
   "cell_type": "markdown",
   "metadata": {},
   "source": [
    "### Cyclically Shifted Array\n",
    "\n",
    "https://www.youtube.com/watch?v=l7swJRixYUM&list=PL5tcWHG-UPH1K7oTJgIbWy6rCMc8-8Lfm&index=21\n",
    "\n",
    "REWATCH\n",
    "\n",
    "An array is \"cyclically sorted\" if it is possible to cyclically shift\n",
    "its entries so that it becomes sorted.\n",
    "The following list is an example of a cyclically sorted array:\n",
    "\n",
    "    A = [4, 5, 6, 7, 1, 2, 3]\n",
    "\n",
    "Write a function that determines the index of the smallest element\n",
    "of the cyclically sorted array."
   ]
  },
  {
   "cell_type": "code",
   "execution_count": 73,
   "metadata": {},
   "outputs": [],
   "source": [
    "A = [4, 5, 6, 7, 1, 2, 3]"
   ]
  },
  {
   "cell_type": "code",
   "execution_count": 78,
   "metadata": {},
   "outputs": [],
   "source": [
    "def findLowElement(input_array):\n",
    "    low = 0\n",
    "    high = len(input_array) - 1\n",
    "    \n",
    "    while low < high:\n",
    "        mid = (low + high) // 2\n",
    "        \n",
    "        if input_array[mid] > input_array[high]:\n",
    "            low = mid + 1\n",
    "            \n",
    "        elif input_array[mid] <= input_array[high]:\n",
    "            high = mid       \n",
    "    \n",
    "    return input_array[low]"
   ]
  },
  {
   "cell_type": "code",
   "execution_count": 79,
   "metadata": {},
   "outputs": [
    {
     "data": {
      "text/plain": [
       "1"
      ]
     },
     "execution_count": 79,
     "metadata": {},
     "output_type": "execute_result"
    }
   ],
   "source": [
    "findLowElement(A)"
   ]
  },
  {
   "cell_type": "code",
   "execution_count": null,
   "metadata": {},
   "outputs": [],
   "source": []
  }
 ],
 "metadata": {
  "kernelspec": {
   "display_name": "Python 3",
   "language": "python",
   "name": "python3"
  },
  "language_info": {
   "codemirror_mode": {
    "name": "ipython",
    "version": 3
   },
   "file_extension": ".py",
   "mimetype": "text/x-python",
   "name": "python",
   "nbconvert_exporter": "python",
   "pygments_lexer": "ipython3",
   "version": "3.6.7"
  }
 },
 "nbformat": 4,
 "nbformat_minor": 2
}
