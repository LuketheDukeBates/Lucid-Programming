{
 "cells": [
  {
   "cell_type": "markdown",
   "metadata": {},
   "source": [
    "## Find Closest Number\n",
    "\n",
    "given a sorted array and a target number. Our goal is to find a number in the array that is closest to the target number. We will be making use of binary search to solve this problem.\n",
    "\n",
    "The array may contain duplicate values and negative numbers.\n",
    "\n",
    "Example 1:\n",
    "\n",
    "    Input : arr[] = {1, 2, 4, 5, 6, 6, 8, 9}\n",
    "    Target number = 11\n",
    "    Output : 9\n",
    "    9 is closest to 11 in given array\n",
    "\n",
    "Example 2:\n",
    "\n",
    "    Input :arr[] = {2, 5, 6, 7, 8, 8, 9};\n",
    "    Target number = 4\n",
    "    Output : 5\n",
    "    \n",
    "    midpoint: 7\n",
    "    right of midpoint: 8 - 4 = 4\n",
    "    left of midpoint: 6 - 4  = 2\n",
    "    \n",
    "    midpoint: 5\n",
    "    right of midpoint: 6 - 4 = 2\n",
    "    left of midpoint: |2 - 4| = 2\n",
    "    only interested in absolute value\n",
    "    \n",
    "    midpoint: 2\n",
    "    right of midpoint: 5 - 4 = 1\n",
    "    left of midpoint: null\n",
    "    \n",
    "    return 5\n",
    "    \n"
   ]
  },
  {
   "cell_type": "code",
   "execution_count": 4,
   "metadata": {},
   "outputs": [],
   "source": [
    "A1 = [1, 2, 4, 5, 6, 6, 8, 9]\n",
    "target1 = 11\n",
    "A2 = [2, 5, 6, 7, 8, 8, 9]\n",
    "target2 = 4"
   ]
  },
  {
   "cell_type": "code",
   "execution_count": 6,
   "metadata": {},
   "outputs": [],
   "source": [
    "#Time complexity: O(logn)\n",
    "#Space complexity: O(1)\n",
    "def findClosestNum(A, target):\n",
    "    min_diff = float(\"inf\")\n",
    "    low = 0\n",
    "    high = len(A) - 1\n",
    "    closest_num = None\n",
    "    #edge cases for empty list, when list contains only 1 element\n",
    "    if len(A) == 0:\n",
    "        return None\n",
    "    if len(A) == 1:\n",
    "        return A[0]\n",
    "    \n",
    "    while low <= high:\n",
    "        mid = (low + high) // 2\n",
    "        \n",
    "        #ensure we don't read beyond bounds of list\n",
    "        #obtain left and right difference values\n",
    "        if mid + 1 < len(A):\n",
    "            min_diff_right = abs(A[mid+1] - target)\n",
    "        if mid > 0:\n",
    "            min_diff_left = abs(A[mid-1] - target)\n",
    "        \n",
    "        #Check if absolute value between left and right elements\n",
    "        # are smaller than any seen prior\n",
    "        if min_diff_left < min_diff:\n",
    "            min_diff = min_diff_left\n",
    "            closest_num = A[mid-1]\n",
    "        \n",
    "        if min_diff_right < min_diff:\n",
    "            min_diff = min_diff_right\n",
    "            closest_num = A[mid+1]\n",
    "        \n",
    "        #Move midpoint via binary search\n",
    "        if A[mid] < target:\n",
    "            low = mid + 1\n",
    "        elif A[mid] > target:\n",
    "            high = mid - 1\n",
    "        else: # if element is target\n",
    "            return A[mid]\n",
    "    return closest_num\n",
    "        \n",
    "        "
   ]
  },
  {
   "cell_type": "code",
   "execution_count": 7,
   "metadata": {},
   "outputs": [
    {
     "data": {
      "text/plain": [
       "9"
      ]
     },
     "execution_count": 7,
     "metadata": {},
     "output_type": "execute_result"
    }
   ],
   "source": [
    "findClosestNum(A1, target1)"
   ]
  },
  {
   "cell_type": "code",
   "execution_count": 8,
   "metadata": {},
   "outputs": [
    {
     "data": {
      "text/plain": [
       "5"
      ]
     },
     "execution_count": 8,
     "metadata": {},
     "output_type": "execute_result"
    }
   ],
   "source": [
    "findClosestNum(A2, target2)"
   ]
  },
  {
   "cell_type": "code",
   "execution_count": null,
   "metadata": {},
   "outputs": [],
   "source": []
  }
 ],
 "metadata": {
  "kernelspec": {
   "display_name": "Python 3",
   "language": "python",
   "name": "python3"
  },
  "language_info": {
   "codemirror_mode": {
    "name": "ipython",
    "version": 3
   },
   "file_extension": ".py",
   "mimetype": "text/x-python",
   "name": "python",
   "nbconvert_exporter": "python",
   "pygments_lexer": "ipython3",
   "version": "3.6.5"
  }
 },
 "nbformat": 4,
 "nbformat_minor": 2
}
