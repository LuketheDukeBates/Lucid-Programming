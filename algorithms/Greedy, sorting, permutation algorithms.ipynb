{
 "cells": [
  {
   "cell_type": "markdown",
   "metadata": {},
   "source": [
    "### Greedy Algorithms in Python: Optimal Task Assignment\n",
    "We wish to determine the optimal way in which to assign tasks to workers. Each worker must work on exactly two tasks. Tasks are independent and each task takes a fixed amount of time. \n",
    "\n",
    "Problem:\n",
    " Assign tasks to workers such that the time it takes to complete all tasks is minimized."
   ]
  },
  {
   "cell_type": "code",
   "execution_count": 2,
   "metadata": {},
   "outputs": [
    {
     "name": "stdout",
     "output_type": "stream",
     "text": [
      "[2, 3, 5, 5, 6, 7]\n"
     ]
    }
   ],
   "source": [
    "A = [6, 3, 2, 7, 5, 5]\n",
    "print(sorted(A))"
   ]
  },
  {
   "cell_type": "code",
   "execution_count": 4,
   "metadata": {},
   "outputs": [
    {
     "data": {
      "text/plain": [
       "-1"
      ]
     },
     "execution_count": 4,
     "metadata": {},
     "output_type": "execute_result"
    }
   ],
   "source": [
    "~0"
   ]
  },
  {
   "cell_type": "code",
   "execution_count": 5,
   "metadata": {},
   "outputs": [
    {
     "data": {
      "text/plain": [
       "0"
      ]
     },
     "execution_count": 5,
     "metadata": {},
     "output_type": "execute_result"
    }
   ],
   "source": [
    "~-1"
   ]
  },
  {
   "cell_type": "code",
   "execution_count": 6,
   "metadata": {},
   "outputs": [
    {
     "data": {
      "text/plain": [
       "-2"
      ]
     },
     "execution_count": 6,
     "metadata": {},
     "output_type": "execute_result"
    }
   ],
   "source": [
    "~1"
   ]
  },
  {
   "cell_type": "code",
   "execution_count": 7,
   "metadata": {},
   "outputs": [
    {
     "data": {
      "text/plain": [
       "-3"
      ]
     },
     "execution_count": 7,
     "metadata": {},
     "output_type": "execute_result"
    }
   ],
   "source": [
    "~2"
   ]
  },
  {
   "cell_type": "code",
   "execution_count": 15,
   "metadata": {},
   "outputs": [],
   "source": [
    "def greedy(some_array):\n",
    "    some_array = sorted(some_array)\n",
    "    mid = len(some_array) // 2\n",
    "    for i in range(mid):\n",
    "        print(some_array[i], some_array[~i])"
   ]
  },
  {
   "cell_type": "code",
   "execution_count": 16,
   "metadata": {},
   "outputs": [
    {
     "name": "stdout",
     "output_type": "stream",
     "text": [
      "2 7\n",
      "3 6\n",
      "5 5\n"
     ]
    }
   ],
   "source": [
    "greedy(A)"
   ]
  },
  {
   "cell_type": "markdown",
   "metadata": {},
   "source": [
    "## Sorting Algorithms in Python: Intersection of Two Sorted Arrays\n",
    "\n",
    "Problem:\n",
    " Given two arrays, A and B, determine their intersection. That is, what elements are common to A and B?\n",
    "\n",
    "There is a one-line solution to this in Python that will also work in the event when the arrays are not sorted. However, since we are aware that the arrays A and B are sorted, we can use this to our advantage and solve the problem in a way that leverages this and gives us a slightly better runtime.\n"
   ]
  },
  {
   "cell_type": "code",
   "execution_count": 18,
   "metadata": {},
   "outputs": [
    {
     "name": "stdout",
     "output_type": "stream",
     "text": [
      "{2, 3, 5, 7, 11}\n",
      "{3, 15, 31, 7}\n"
     ]
    }
   ],
   "source": [
    "A = [2, 3, 3, 5, 7, 11]\n",
    "B = [3, 3, 7, 15, 31]\n",
    "\n",
    "print(set(A))\n",
    "print(set(B))"
   ]
  },
  {
   "cell_type": "markdown",
   "metadata": {},
   "source": [
    "Nice concise solution, but not optimal because we know A and B are sorted"
   ]
  },
  {
   "cell_type": "code",
   "execution_count": 21,
   "metadata": {},
   "outputs": [
    {
     "name": "stdout",
     "output_type": "stream",
     "text": [
      "{3, 7}\n"
     ]
    }
   ],
   "source": [
    "print(set(A).intersection(B))"
   ]
  },
  {
   "cell_type": "code",
   "execution_count": 22,
   "metadata": {},
   "outputs": [
    {
     "name": "stdout",
     "output_type": "stream",
     "text": [
      "[3, 7]\n"
     ]
    }
   ],
   "source": [
    "def intersect_sorted_array(A, B):\n",
    "    i = 0\n",
    "    j = 0\n",
    "    intersection = []\n",
    "    while i < len(A) and j < len(B):\n",
    "        if A[i] == B[j]:\n",
    "            if i == 0 or A[i] != A[i-1]:\n",
    "                intersection.append(A[i])\n",
    "            i += 1\n",
    "            j += 1\n",
    "        \n",
    "        elif A[i] < B[j]:\n",
    "            i += 1\n",
    "        else: # A[i] > B[j]\n",
    "            j += 1\n",
    "    return intersection\n",
    "        \n",
    "\n",
    "\n",
    "\n",
    "print(intersect_sorted_array(A, B))"
   ]
  },
  {
   "cell_type": "markdown",
   "metadata": {},
   "source": [
    "### String Processing in Python: Is Palindrome Permutation\n",
    "\n",
    "how to determine if a string is a palindrome permutation. Specifically:\n",
    "\n",
    "Given a string, we wish to write a function to determine if it is a permutation of a palindrome. \n",
    "\n",
    "Recall: \n",
    "\n",
    "Palindrome: A word or phrase that is the same forwards and backward. \n",
    "\n",
    "Permutation: A rearrangement of letters.The palindrome does not need to be limited to just dictionary words."
   ]
  },
  {
   "cell_type": "code",
   "execution_count": 23,
   "metadata": {},
   "outputs": [],
   "source": [
    "palin_perm = \"Tact Coa\" # Taco Cat\n",
    "not_palin_perm = \"The is not a palindrome permutation\""
   ]
  },
  {
   "cell_type": "code",
   "execution_count": 25,
   "metadata": {},
   "outputs": [],
   "source": [
    "# Time complexity: O(n)\n",
    "# Space complexity: O(n)\n",
    "def isPalindromePerm(some_str):\n",
    "    lookup = {}\n",
    "    some_str = some_str.lower()\n",
    "    some_str = some_str.replace(' ', '')\n",
    "    for char in some_str:\n",
    "        if char in lookup:\n",
    "            lookup[char] += 1\n",
    "        else:\n",
    "            lookup[char] = 1\n",
    "    odd_count = 0\n",
    "    for key, value in lookup.items():\n",
    "        if value%2 != 0 and odd_count == 0:\n",
    "            odd_count += 1\n",
    "        elif value%2 != 0 and odd_count != 0:\n",
    "            return False\n",
    "    return True\n",
    "        \n",
    "        \n",
    "            \n",
    "    "
   ]
  },
  {
   "cell_type": "code",
   "execution_count": 26,
   "metadata": {},
   "outputs": [
    {
     "data": {
      "text/plain": [
       "True"
      ]
     },
     "execution_count": 26,
     "metadata": {},
     "output_type": "execute_result"
    }
   ],
   "source": [
    "isPalindromePerm(\"Tact Coa\")"
   ]
  },
  {
   "cell_type": "code",
   "execution_count": 27,
   "metadata": {},
   "outputs": [
    {
     "data": {
      "text/plain": [
       "False"
      ]
     },
     "execution_count": 27,
     "metadata": {},
     "output_type": "execute_result"
    }
   ],
   "source": [
    "isPalindromePerm(\"The is not a palindrome permutation\")"
   ]
  },
  {
   "cell_type": "markdown",
   "metadata": {},
   "source": [
    "### Check Permutation\n",
    "\n",
    "how to determine if a given string is a permutation of another string. \n",
    "\n",
    "Specifically, we want to solve the problem:\n",
    "Given two strings, write a function to determine if one is a permutation of the other. "
   ]
  },
  {
   "cell_type": "code",
   "execution_count": 37,
   "metadata": {},
   "outputs": [],
   "source": [
    "perm1 = \"god\"\n",
    "perm2 = \"dog\"\n",
    "\n",
    "not_perm1 = \"not\"\n",
    "not_perm2 = \"top\""
   ]
  },
  {
   "cell_type": "code",
   "execution_count": 35,
   "metadata": {},
   "outputs": [],
   "source": [
    "#Time Complexity: O(nlogn)\n",
    "#Space complexity: O(1)\n",
    "def isPermV1(str_1, str_2):\n",
    "    if len(str_1) != len(str_2):\n",
    "        return False\n",
    "    str_1 = str_1.lower()\n",
    "    str_2 = str_2.lower()\n",
    "    #spaces are treated as characters\n",
    "    #nlog for sorting\n",
    "    str_1 = ''.join(sorted(str_1))\n",
    "    str_2 = ''.join(sorted(str_2))\n",
    "    \n",
    "    n = len(str_1)\n",
    "    for i in range(n):\n",
    "        if str_1[i] != str_2[i]:\n",
    "            return False\n",
    "    \n",
    "    return True   "
   ]
  },
  {
   "cell_type": "code",
   "execution_count": 36,
   "metadata": {},
   "outputs": [
    {
     "data": {
      "text/plain": [
       "True"
      ]
     },
     "execution_count": 36,
     "metadata": {},
     "output_type": "execute_result"
    }
   ],
   "source": [
    "isPermV1(perm1, perm2)"
   ]
  },
  {
   "cell_type": "code",
   "execution_count": 38,
   "metadata": {},
   "outputs": [
    {
     "data": {
      "text/plain": [
       "False"
      ]
     },
     "execution_count": 38,
     "metadata": {},
     "output_type": "execute_result"
    }
   ],
   "source": [
    "isPermV1(not_perm1, not_perm2)"
   ]
  },
  {
   "cell_type": "code",
   "execution_count": 39,
   "metadata": {},
   "outputs": [],
   "source": [
    "# Time Complexity: O(n)\n",
    "# Space Complexity: O(n)\n",
    "def isPermV2(str_1, str_2):\n",
    "    if len(str_1) != len(str_2):\n",
    "        return False\n",
    "    str_1 = str_1.lower()\n",
    "    str_2 = str_2.lower()\n",
    "    #spaces are treated as characters\n",
    "    lookup = {}\n",
    "    \n",
    "    for char in str_1:\n",
    "        if char in lookup:\n",
    "            lookup[char] -= 1\n",
    "        else:\n",
    "            lookup[char] = 1\n",
    "    \n",
    "    for char in str_2:\n",
    "        if char in lookup:\n",
    "            lookup[char] -= 1\n",
    "        else:\n",
    "            lookup[char] = 1\n",
    "            \n",
    "    return all(value == 0 for value in lookup.values())\n",
    "            \n",
    "    "
   ]
  },
  {
   "cell_type": "code",
   "execution_count": 40,
   "metadata": {},
   "outputs": [
    {
     "data": {
      "text/plain": [
       "True"
      ]
     },
     "execution_count": 40,
     "metadata": {},
     "output_type": "execute_result"
    }
   ],
   "source": [
    "isPermV2(perm1, perm2)"
   ]
  },
  {
   "cell_type": "code",
   "execution_count": 41,
   "metadata": {},
   "outputs": [
    {
     "data": {
      "text/plain": [
       "False"
      ]
     },
     "execution_count": 41,
     "metadata": {},
     "output_type": "execute_result"
    }
   ],
   "source": [
    "isPermV2(not_perm1, not_perm2)"
   ]
  },
  {
   "cell_type": "markdown",
   "metadata": {},
   "source": [
    "##  Is Unique\n",
    "\n",
    "how to determine if a string has all unique characters. One approach to this problem may be to use an additional data structure, like a hash table. We will consider how one may solve this problem without the use of such a data structure. We'll present a number of solutions to this problem and give a rough time and space complexity analysis of each approach.\n"
   ]
  },
  {
   "cell_type": "code",
   "execution_count": 42,
   "metadata": {},
   "outputs": [],
   "source": [
    "unique_str = 'AbCDefG'\n",
    "not_unique_str = \"Non Unique STR\""
   ]
  },
  {
   "cell_type": "code",
   "execution_count": 43,
   "metadata": {},
   "outputs": [
    {
     "data": {
      "text/plain": [
       "True"
      ]
     },
     "execution_count": 43,
     "metadata": {},
     "output_type": "execute_result"
    }
   ],
   "source": [
    "len(set(unique_str)) == len(unique_str)"
   ]
  },
  {
   "cell_type": "code",
   "execution_count": 44,
   "metadata": {},
   "outputs": [
    {
     "data": {
      "text/plain": [
       "False"
      ]
     },
     "execution_count": 44,
     "metadata": {},
     "output_type": "execute_result"
    }
   ],
   "source": [
    "len(set(not_unique_str)) == len(not_unique_str)"
   ]
  },
  {
   "cell_type": "code",
   "execution_count": 45,
   "metadata": {},
   "outputs": [],
   "source": [
    "def normalize(input_str):\n",
    "    input_str = input_str.replace(' ', '')\n",
    "    return input_str.lower()"
   ]
  },
  {
   "cell_type": "code",
   "execution_count": 46,
   "metadata": {},
   "outputs": [],
   "source": [
    "def isUniqueV1(input_str):\n",
    "    input_str = normalize(input_str)\n",
    "    lookup = {}\n",
    "    \n",
    "    for char in input_str:\n",
    "        if char in lookup:\n",
    "            return False\n",
    "        else:\n",
    "            lookup[char] = 1\n",
    "    \n",
    "    return True            "
   ]
  },
  {
   "cell_type": "code",
   "execution_count": 47,
   "metadata": {},
   "outputs": [
    {
     "data": {
      "text/plain": [
       "True"
      ]
     },
     "execution_count": 47,
     "metadata": {},
     "output_type": "execute_result"
    }
   ],
   "source": [
    "isUniqueV1(unique_str)"
   ]
  },
  {
   "cell_type": "code",
   "execution_count": 48,
   "metadata": {},
   "outputs": [
    {
     "data": {
      "text/plain": [
       "False"
      ]
     },
     "execution_count": 48,
     "metadata": {},
     "output_type": "execute_result"
    }
   ],
   "source": [
    "isUniqueV1(not_unique_str)"
   ]
  },
  {
   "cell_type": "code",
   "execution_count": 49,
   "metadata": {},
   "outputs": [],
   "source": [
    "def isUniqueV2(input_str):\n",
    "    input_str = normalize(input_str)\n",
    "    return len(set(input_str)) == len(input_str)"
   ]
  },
  {
   "cell_type": "code",
   "execution_count": 50,
   "metadata": {},
   "outputs": [
    {
     "data": {
      "text/plain": [
       "True"
      ]
     },
     "execution_count": 50,
     "metadata": {},
     "output_type": "execute_result"
    }
   ],
   "source": [
    "isUniqueV2(unique_str)"
   ]
  },
  {
   "cell_type": "code",
   "execution_count": 51,
   "metadata": {},
   "outputs": [
    {
     "data": {
      "text/plain": [
       "False"
      ]
     },
     "execution_count": 51,
     "metadata": {},
     "output_type": "execute_result"
    }
   ],
   "source": [
    "isUniqueV2(not_unique_str)"
   ]
  },
  {
   "cell_type": "code",
   "execution_count": 52,
   "metadata": {},
   "outputs": [],
   "source": [
    "def isUniqueV3(input_str):\n",
    "    input_str = normalize(input_str)\n",
    "    alpha = 'abcdefghijklmnopqrstuvwxyz'\n",
    "    \n",
    "    for char in input_str:\n",
    "        if char in alpha:\n",
    "            alpha = alpha.replace(char, '')\n",
    "        else:\n",
    "            return False\n",
    "    \n",
    "    return True"
   ]
  },
  {
   "cell_type": "code",
   "execution_count": 53,
   "metadata": {},
   "outputs": [
    {
     "data": {
      "text/plain": [
       "True"
      ]
     },
     "execution_count": 53,
     "metadata": {},
     "output_type": "execute_result"
    }
   ],
   "source": [
    "isUniqueV3(unique_str)"
   ]
  },
  {
   "cell_type": "code",
   "execution_count": 54,
   "metadata": {},
   "outputs": [
    {
     "data": {
      "text/plain": [
       "False"
      ]
     },
     "execution_count": 54,
     "metadata": {},
     "output_type": "execute_result"
    }
   ],
   "source": [
    "isUniqueV3(not_unique_str)"
   ]
  },
  {
   "cell_type": "code",
   "execution_count": null,
   "metadata": {},
   "outputs": [],
   "source": []
  }
 ],
 "metadata": {
  "kernelspec": {
   "display_name": "Python 3",
   "language": "python",
   "name": "python3"
  },
  "language_info": {
   "codemirror_mode": {
    "name": "ipython",
    "version": 3
   },
   "file_extension": ".py",
   "mimetype": "text/x-python",
   "name": "python",
   "nbconvert_exporter": "python",
   "pygments_lexer": "ipython3",
   "version": "3.6.5"
  }
 },
 "nbformat": 4,
 "nbformat_minor": 2
}
