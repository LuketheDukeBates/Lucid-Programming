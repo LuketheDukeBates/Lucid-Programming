{
 "cells": [
  {
   "cell_type": "markdown",
   "metadata": {},
   "source": [
    "## Look and Say Sequence\n",
    "\n",
    "1, 11, 21, 1211, 111221, 312211, 13112221, 1113213211, ... \n",
    "\n",
    "To generate a member of the sequence from the previous member, read off the digits of the previous member, counting the number of digits in groups of the same digit. For example:\n",
    "\n",
    "1 is read off as \"one 1\" or 11.\n",
    "\n",
    "11 is read off as \"two 1s\" or 21.\n",
    "\n",
    "21 is read off as \"one 2, then one 1\" or 1211.\n",
    "\n",
    "1211 is read off as \"one 1, one 2, then two 1s\" or 111221.\n",
    "\n",
    "111221 is read off as \"three 1s, two 2s, then one 1\" or 312211.\n",
    "\n",
    "Problem: given some integer, n, determine the nth term in the \"look and say\" sequence\n",
    "\n",
    "Example:\n",
    "for n = 4, the 4th term in the sequence is 1211"
   ]
  },
  {
   "cell_type": "code",
   "execution_count": 1,
   "metadata": {},
   "outputs": [],
   "source": [
    "def nextNumber(input_str):\n",
    "    result = []\n",
    "    i = 0\n",
    "    \n",
    "    while i < len(input_str):\n",
    "        count = 1\n",
    "        \n",
    "        while i + 1 < len(input_str) and input_str[i] == input_str[i + 1]:\n",
    "            i += 1\n",
    "            count += 1\n",
    "        \n",
    "        result.append(str(count) + input_str[i]) \n",
    "        i += 1\n",
    "        \n",
    "    return ''.join(result)"
   ]
  },
  {
   "cell_type": "code",
   "execution_count": 2,
   "metadata": {},
   "outputs": [
    {
     "name": "stdout",
     "output_type": "stream",
     "text": [
      "111221\n"
     ]
    }
   ],
   "source": [
    "print(nextNumber('1211'))"
   ]
  },
  {
   "cell_type": "code",
   "execution_count": 3,
   "metadata": {},
   "outputs": [],
   "source": [
    "n = 4"
   ]
  },
  {
   "cell_type": "code",
   "execution_count": 8,
   "metadata": {},
   "outputs": [
    {
     "name": "stdout",
     "output_type": "stream",
     "text": [
      "11\n",
      "21\n",
      "1211\n"
     ]
    }
   ],
   "source": [
    "s = '1'\n",
    "for i in range(n - 1):\n",
    "    s = nextNumber(s)\n",
    "    print(s)"
   ]
  },
  {
   "cell_type": "markdown",
   "metadata": {},
   "source": [
    "### Spreadsheet encoding\n",
    "\n",
    "how to solve the problem of implementing a function that converts a spreadsheet column ID (i.e. \"A\", \"B\", \"C\", ..., \"Z\", \"AA\", etc.) to the corresponding integer."
   ]
  },
  {
   "cell_type": "code",
   "execution_count": 16,
   "metadata": {},
   "outputs": [],
   "source": [
    "def spreadsheet_encode_column(col_str):\n",
    "    num = 0\n",
    "    count = len(col_str) - 1\n",
    "    for char in col_str:\n",
    "        num += 26**count * (ord(char) - ord('A') + 1)\n",
    "        count -= 1\n",
    "    return num"
   ]
  },
  {
   "cell_type": "code",
   "execution_count": 17,
   "metadata": {},
   "outputs": [
    {
     "name": "stdout",
     "output_type": "stream",
     "text": [
      "1\n",
      "27\n",
      "702\n"
     ]
    }
   ],
   "source": [
    "print(spreadsheet_encode_column(\"A\"))\n",
    "print(spreadsheet_encode_column(\"AA\"))\n",
    "print(spreadsheet_encode_column(\"ZZ\"))\n",
    "      "
   ]
  },
  {
   "cell_type": "code",
   "execution_count": 13,
   "metadata": {},
   "outputs": [
    {
     "data": {
      "text/plain": [
       "65"
      ]
     },
     "execution_count": 13,
     "metadata": {},
     "output_type": "execute_result"
    }
   ],
   "source": [
    "ord('A')"
   ]
  },
  {
   "cell_type": "code",
   "execution_count": 14,
   "metadata": {},
   "outputs": [
    {
     "data": {
      "text/plain": [
       "66"
      ]
     },
     "execution_count": 14,
     "metadata": {},
     "output_type": "execute_result"
    }
   ],
   "source": [
    "ord('B')"
   ]
  },
  {
   "cell_type": "code",
   "execution_count": 15,
   "metadata": {},
   "outputs": [
    {
     "data": {
      "text/plain": [
       "67"
      ]
     },
     "execution_count": 15,
     "metadata": {},
     "output_type": "execute_result"
    }
   ],
   "source": [
    "ord('C')"
   ]
  },
  {
   "cell_type": "markdown",
   "metadata": {},
   "source": [
    "### Palindrome\n",
    "\n",
    "how to test whether a string is a palindrome in Python. We will be doing this using a linear amount of time and a constant amount of space.\n"
   ]
  },
  {
   "cell_type": "code",
   "execution_count": 18,
   "metadata": {},
   "outputs": [
    {
     "name": "stdout",
     "output_type": "stream",
     "text": [
      "True\n"
     ]
    }
   ],
   "source": [
    "# golf code solution which uses extra space proportional to size of string\n",
    "input_str = \"Was it a cat I saw?\"\n",
    "input_str = ''.join([char for char in input_str if char.isalpha()]).replace(\" \", \"\").lower()\n",
    "print(input_str ==  input_str[::-1])"
   ]
  },
  {
   "cell_type": "code",
   "execution_count": 19,
   "metadata": {},
   "outputs": [],
   "source": [
    "def is_palindrome(input_str):\n",
    "    i = 0\n",
    "    j = len(input_str) - 1\n",
    "    while i < j:\n",
    "        while not input_str[i].isalnum() and i < j:\n",
    "            i += 1\n",
    "        while not input_str[j].isalnum() and i < j:\n",
    "            j -= 1\n",
    "        if input_str[i].lower() !=  input_str[j].lower():\n",
    "            return False\n",
    "        i += 1\n",
    "        j -= 1\n",
    "    \n",
    "    return True\n",
    "    \n",
    "    "
   ]
  },
  {
   "cell_type": "code",
   "execution_count": 20,
   "metadata": {},
   "outputs": [
    {
     "data": {
      "text/plain": [
       "True"
      ]
     },
     "execution_count": 20,
     "metadata": {},
     "output_type": "execute_result"
    }
   ],
   "source": [
    "is_palindrome(input_str)"
   ]
  },
  {
   "cell_type": "code",
   "execution_count": 21,
   "metadata": {},
   "outputs": [],
   "source": [
    "input_str = 'Hey'"
   ]
  },
  {
   "cell_type": "code",
   "execution_count": 22,
   "metadata": {},
   "outputs": [
    {
     "data": {
      "text/plain": [
       "False"
      ]
     },
     "execution_count": 22,
     "metadata": {},
     "output_type": "execute_result"
    }
   ],
   "source": [
    "is_palindrome(input_str)"
   ]
  },
  {
   "cell_type": "markdown",
   "metadata": {},
   "source": [
    "### Anagrams\n",
    "determining whether two strings are anagrams of each other. \n",
    "\n",
    "normalize strings: all lowercase, no spaces\n"
   ]
  },
  {
   "cell_type": "code",
   "execution_count": 30,
   "metadata": {},
   "outputs": [],
   "source": [
    "input_str1 = \"fairy tales\"\n",
    "input_str2 = \"rail safety\""
   ]
  },
  {
   "cell_type": "code",
   "execution_count": 24,
   "metadata": {},
   "outputs": [],
   "source": [
    "input_str1 = input_str1.replace(\" \", \"\").lower()\n",
    "input_str2 = input_str1.replace(\" \", \"\").lower()"
   ]
  },
  {
   "cell_type": "code",
   "execution_count": 26,
   "metadata": {},
   "outputs": [
    {
     "name": "stdout",
     "output_type": "stream",
     "text": [
      "True\n"
     ]
    }
   ],
   "source": [
    "# nlogn time for the sort, so this is nice but inefficient\n",
    "print(sorted(input_str1) == sorted(input_str2))"
   ]
  },
  {
   "cell_type": "code",
   "execution_count": 31,
   "metadata": {},
   "outputs": [],
   "source": [
    "def isAnagram(input_str1, input_str2):\n",
    "    if len(input_str1) != len(input_str2):\n",
    "        return False\n",
    "    ana_dict = {}\n",
    "    \n",
    "    for char in input_str1:\n",
    "        if char in ana_dict:\n",
    "            ana_dict[char] += 1\n",
    "        else:\n",
    "            ana_dict[char] = 1\n",
    "    \n",
    "    for char in input_str2:\n",
    "        if char in ana_dict:\n",
    "            ana_dict[char] -= 1\n",
    "        else:\n",
    "            ana_dict[char] = 1\n",
    "    \n",
    "    for key in ana_dict:\n",
    "        if ana_dict[key] != 0:\n",
    "            return False\n",
    "    \n",
    "    return True"
   ]
  },
  {
   "cell_type": "code",
   "execution_count": 32,
   "metadata": {},
   "outputs": [
    {
     "data": {
      "text/plain": [
       "True"
      ]
     },
     "execution_count": 32,
     "metadata": {},
     "output_type": "execute_result"
    }
   ],
   "source": [
    "isAnagram(input_str1, input_str2)"
   ]
  },
  {
   "cell_type": "code",
   "execution_count": 33,
   "metadata": {},
   "outputs": [],
   "source": [
    "input_str1 = 'Hey'\n",
    "input_str2 = 'Yo'"
   ]
  },
  {
   "cell_type": "code",
   "execution_count": 34,
   "metadata": {},
   "outputs": [
    {
     "data": {
      "text/plain": [
       "False"
      ]
     },
     "execution_count": 34,
     "metadata": {},
     "output_type": "execute_result"
    }
   ],
   "source": [
    "isAnagram(input_str1, input_str2)"
   ]
  },
  {
   "cell_type": "code",
   "execution_count": null,
   "metadata": {},
   "outputs": [],
   "source": []
  }
 ],
 "metadata": {
  "kernelspec": {
   "display_name": "Python 3",
   "language": "python",
   "name": "python3"
  },
  "language_info": {
   "codemirror_mode": {
    "name": "ipython",
    "version": 3
   },
   "file_extension": ".py",
   "mimetype": "text/x-python",
   "name": "python",
   "nbconvert_exporter": "python",
   "pygments_lexer": "ipython3",
   "version": "3.6.7"
  }
 },
 "nbformat": 4,
 "nbformat_minor": 2
}
